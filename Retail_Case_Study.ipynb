{
  "nbformat": 4,
  "nbformat_minor": 0,
  "metadata": {
    "colab": {
      "provenance": [],
      "mount_file_id": "1dp8qfTqcAR_rnyCMzoh5bQvpjvXHU7UR",
      "authorship_tag": "ABX9TyNFJSWLgpGigdztC6EhHzSF",
      "include_colab_link": true
    },
    "kernelspec": {
      "name": "python3",
      "display_name": "Python 3"
    },
    "language_info": {
      "name": "python"
    }
  },
  "cells": [
    {
      "cell_type": "markdown",
      "metadata": {
        "id": "view-in-github",
        "colab_type": "text"
      },
      "source": [
        "<a href=\"https://colab.research.google.com/github/sunnyl94/Data-Analysis-Folder/blob/main/Retail_Case_Study.ipynb\" target=\"_parent\"><img src=\"https://colab.research.google.com/assets/colab-badge.svg\" alt=\"Open In Colab\"/></a>"
      ]
    },
    {
      "cell_type": "markdown",
      "source": [
        "# 마케팅 고객 데이터 분석\n",
        "\n",
        "<!-- 출처 https://www.kaggle.com/datasets/darpan25bajaj/retail-case-study-data -->"
      ],
      "metadata": {
        "id": "yBdE2Bq713BA"
      }
    },
    {
      "cell_type": "code",
      "source": [
        "# !sudo apt-get install -y fonts-nanum\n",
        "# !sudo fc-cache -fv\n",
        "# !rm ~/.cache/matplotlib -rf"
      ],
      "metadata": {
        "id": "MAfb8HLjMcTn"
      },
      "execution_count": 1,
      "outputs": []
    },
    {
      "cell_type": "code",
      "source": [
        "# 필요한 library 설치\n",
        "import pandas as pd\n",
        "import numpy as np\n",
        "import matplotlib.pyplot as plt\n",
        "%matplotlib inline\n",
        "plt.rc('font', family='NanumBarunGothic')\n",
        "\n",
        "import warnings\n",
        "warnings.filterwarnings(\"ignore\")"
      ],
      "metadata": {
        "id": "Xkz4mFFmye_e"
      },
      "execution_count": 2,
      "outputs": []
    },
    {
      "cell_type": "code",
      "execution_count": 3,
      "metadata": {
        "id": "Yd_t_iiyxvO3"
      },
      "outputs": [],
      "source": [
        "# 데이터 임포트\n",
        "customer = pd.read_csv(\"/content/drive/MyDrive/workspace/Data Analysis/Retail Case Study/data/Customer.csv\")\n",
        "transaction = pd.read_csv(\"/content/drive/MyDrive/workspace/Data Analysis/Retail Case Study/data/Transactions.csv\")\n",
        "prod_info = pd.read_csv(\"/content/drive/MyDrive/workspace/Data Analysis/Retail Case Study/data/prod_cat_info.csv\")"
      ]
    },
    {
      "cell_type": "code",
      "source": [
        "print(\"customer: \", customer.shape)\n",
        "print(\"transaction: \", transaction.shape)\n",
        "print(\"prod_info: \", prod_info.shape)"
      ],
      "metadata": {
        "colab": {
          "base_uri": "https://localhost:8080/"
        },
        "id": "Nxj1_y2L3kBL",
        "outputId": "e2004ffd-dd7f-49c3-8fb7-733a1e50aa6c"
      },
      "execution_count": 4,
      "outputs": [
        {
          "output_type": "stream",
          "name": "stdout",
          "text": [
            "customer:  (5647, 4)\n",
            "transaction:  (23051, 10)\n",
            "prod_info:  (23, 4)\n"
          ]
        }
      ]
    },
    {
      "cell_type": "markdown",
      "source": [
        "---\n",
        "# **1. 데이터 전처리**\n",
        "\n"
      ],
      "metadata": {
        "id": "HhaE1ZqWyBKL"
      }
    },
    {
      "cell_type": "code",
      "source": [
        "# DOB (Date of Birth) 컬럼이 object 타입으로 설정되어 있어 날짜로 변환 필요\n",
        "customer.dtypes"
      ],
      "metadata": {
        "colab": {
          "base_uri": "https://localhost:8080/"
        },
        "id": "MGsh7oz5ddhK",
        "outputId": "f9daf8dd-d4d5-4132-8907-ef59f5544408"
      },
      "execution_count": 5,
      "outputs": [
        {
          "output_type": "execute_result",
          "data": {
            "text/plain": [
              "customer_Id      int64\n",
              "DOB             object\n",
              "Gender          object\n",
              "city_code      float64\n",
              "dtype: object"
            ]
          },
          "metadata": {},
          "execution_count": 5
        }
      ]
    },
    {
      "cell_type": "code",
      "source": [
        "customer[\"DOB\"] = pd.to_datetime(customer[\"DOB\"])\n",
        "customer.dtypes"
      ],
      "metadata": {
        "colab": {
          "base_uri": "https://localhost:8080/"
        },
        "id": "bOeieQ2_dvWv",
        "outputId": "56b4926b-80fa-4b5b-ebc2-7c6bb409d315"
      },
      "execution_count": 6,
      "outputs": [
        {
          "output_type": "execute_result",
          "data": {
            "text/plain": [
              "customer_Id             int64\n",
              "DOB            datetime64[ns]\n",
              "Gender                 object\n",
              "city_code             float64\n",
              "dtype: object"
            ]
          },
          "metadata": {},
          "execution_count": 6
        }
      ]
    },
    {
      "cell_type": "code",
      "source": [
        "# null value가 없다\n",
        "transaction.isnull().sum()"
      ],
      "metadata": {
        "colab": {
          "base_uri": "https://localhost:8080/"
        },
        "id": "Spi9LUB2b0Gs",
        "outputId": "5aaa78c6-0ca5-4032-c32c-f92cf9531b20"
      },
      "execution_count": 7,
      "outputs": [
        {
          "output_type": "execute_result",
          "data": {
            "text/plain": [
              "transaction_id      0\n",
              "cust_id             0\n",
              "tran_date           0\n",
              "prod_subcat_code    0\n",
              "prod_cat_code       0\n",
              "Qty                 0\n",
              "Rate                0\n",
              "Tax                 0\n",
              "total_amt           0\n",
              "Store_type          0\n",
              "dtype: int64"
            ]
          },
          "metadata": {},
          "execution_count": 7
        }
      ]
    },
    {
      "cell_type": "code",
      "source": [
        "# tran_date 컬럼이 object 타입으로 설정되어 있어 날짜로 변환이 필요\n",
        "transaction.dtypes"
      ],
      "metadata": {
        "colab": {
          "base_uri": "https://localhost:8080/"
        },
        "id": "F9bajGznzE8t",
        "outputId": "6dbbf638-5b42-483d-dae4-4b52838e7641"
      },
      "execution_count": 8,
      "outputs": [
        {
          "output_type": "execute_result",
          "data": {
            "text/plain": [
              "transaction_id        int64\n",
              "cust_id               int64\n",
              "tran_date            object\n",
              "prod_subcat_code      int64\n",
              "prod_cat_code         int64\n",
              "Qty                   int64\n",
              "Rate                  int64\n",
              "Tax                 float64\n",
              "total_amt           float64\n",
              "Store_type           object\n",
              "dtype: object"
            ]
          },
          "metadata": {},
          "execution_count": 8
        }
      ]
    },
    {
      "cell_type": "code",
      "source": [
        "transaction[\"tran_date\"] = pd.to_datetime(transaction['tran_date'])\n",
        "transaction.dtypes"
      ],
      "metadata": {
        "colab": {
          "base_uri": "https://localhost:8080/"
        },
        "id": "s48xrOBZbfR5",
        "outputId": "08351308-8f36-4000-a283-9311e9ea7e59"
      },
      "execution_count": 9,
      "outputs": [
        {
          "output_type": "execute_result",
          "data": {
            "text/plain": [
              "transaction_id               int64\n",
              "cust_id                      int64\n",
              "tran_date           datetime64[ns]\n",
              "prod_subcat_code             int64\n",
              "prod_cat_code                int64\n",
              "Qty                          int64\n",
              "Rate                         int64\n",
              "Tax                        float64\n",
              "total_amt                  float64\n",
              "Store_type                  object\n",
              "dtype: object"
            ]
          },
          "metadata": {},
          "execution_count": 9
        }
      ]
    },
    {
      "cell_type": "code",
      "source": [
        "# null value가 없다\n",
        "prod_info.isnull().sum()"
      ],
      "metadata": {
        "colab": {
          "base_uri": "https://localhost:8080/"
        },
        "id": "rLg7UDwUVLya",
        "outputId": "1aebc1b5-1ebf-457c-e4bd-ec2685b44818"
      },
      "execution_count": 10,
      "outputs": [
        {
          "output_type": "execute_result",
          "data": {
            "text/plain": [
              "prod_cat_code        0\n",
              "prod_cat             0\n",
              "prod_sub_cat_code    0\n",
              "prod_subcat          0\n",
              "dtype: int64"
            ]
          },
          "metadata": {},
          "execution_count": 10
        }
      ]
    },
    {
      "cell_type": "code",
      "source": [
        "# 각 컬럼 타입들이 잘 매칭되어 있다\n",
        "prod_info.dtypes"
      ],
      "metadata": {
        "colab": {
          "base_uri": "https://localhost:8080/"
        },
        "id": "4HtZVsE5VTIr",
        "outputId": "79f4055d-3681-4f4c-b9ac-4f83325d856c"
      },
      "execution_count": 11,
      "outputs": [
        {
          "output_type": "execute_result",
          "data": {
            "text/plain": [
              "prod_cat_code         int64\n",
              "prod_cat             object\n",
              "prod_sub_cat_code     int64\n",
              "prod_subcat          object\n",
              "dtype: object"
            ]
          },
          "metadata": {},
          "execution_count": 11
        }
      ]
    },
    {
      "cell_type": "markdown",
      "source": [
        "## 1.a 파생 데이터\n",
        "\n",
        "\n",
        "\n",
        "\n",
        "\n"
      ],
      "metadata": {
        "id": "a_wB1vRufs3R"
      }
    },
    {
      "cell_type": "markdown",
      "source": [
        "데이터가 2014년도에 만들어진 데이터이기 떄문에 2014년도 기준 고객 (만)나이 컬럼을 생성해줄 필요가 있다\n",
        "\n"
      ],
      "metadata": {
        "id": "sKKc5dSxOKY1"
      }
    },
    {
      "cell_type": "code",
      "source": [
        "customer['age'] = 2014 - customer[\"DOB\"].dt.year"
      ],
      "metadata": {
        "colab": {
          "base_uri": "https://localhost:8080/",
          "height": 424
        },
        "id": "kF9u5iJaNtjQ",
        "outputId": "7ce07796-d7d9-48ab-c8b7-0f7c6e197b22"
      },
      "execution_count": 12,
      "outputs": [
        {
          "output_type": "display_data",
          "data": {
            "text/plain": [
              "      customer_Id        DOB Gender  city_code  age\n",
              "0          268408 1970-02-01      M        4.0   44\n",
              "1          269696 1970-07-01      F        8.0   44\n",
              "2          268159 1970-08-01      F        8.0   44\n",
              "3          270181 1970-10-01      F        2.0   44\n",
              "4          268073 1970-11-01      M        1.0   44\n",
              "...           ...        ...    ...        ...  ...\n",
              "5642       274474 1992-12-19      M        2.0   22\n",
              "5643       267666 1992-12-24      M        6.0   22\n",
              "5644       270476 1992-12-25      F        3.0   22\n",
              "5645       269626 1992-12-27      F        5.0   22\n",
              "5646       274308 1992-12-29      F        5.0   22\n",
              "\n",
              "[5647 rows x 5 columns]"
            ],
            "text/html": [
              "\n",
              "  <div id=\"df-306cdbba-e75e-401d-bae0-f940b192f125\">\n",
              "    <div class=\"colab-df-container\">\n",
              "      <div>\n",
              "<style scoped>\n",
              "    .dataframe tbody tr th:only-of-type {\n",
              "        vertical-align: middle;\n",
              "    }\n",
              "\n",
              "    .dataframe tbody tr th {\n",
              "        vertical-align: top;\n",
              "    }\n",
              "\n",
              "    .dataframe thead th {\n",
              "        text-align: right;\n",
              "    }\n",
              "</style>\n",
              "<table border=\"1\" class=\"dataframe\">\n",
              "  <thead>\n",
              "    <tr style=\"text-align: right;\">\n",
              "      <th></th>\n",
              "      <th>customer_Id</th>\n",
              "      <th>DOB</th>\n",
              "      <th>Gender</th>\n",
              "      <th>city_code</th>\n",
              "      <th>age</th>\n",
              "    </tr>\n",
              "  </thead>\n",
              "  <tbody>\n",
              "    <tr>\n",
              "      <th>0</th>\n",
              "      <td>268408</td>\n",
              "      <td>1970-02-01</td>\n",
              "      <td>M</td>\n",
              "      <td>4.0</td>\n",
              "      <td>44</td>\n",
              "    </tr>\n",
              "    <tr>\n",
              "      <th>1</th>\n",
              "      <td>269696</td>\n",
              "      <td>1970-07-01</td>\n",
              "      <td>F</td>\n",
              "      <td>8.0</td>\n",
              "      <td>44</td>\n",
              "    </tr>\n",
              "    <tr>\n",
              "      <th>2</th>\n",
              "      <td>268159</td>\n",
              "      <td>1970-08-01</td>\n",
              "      <td>F</td>\n",
              "      <td>8.0</td>\n",
              "      <td>44</td>\n",
              "    </tr>\n",
              "    <tr>\n",
              "      <th>3</th>\n",
              "      <td>270181</td>\n",
              "      <td>1970-10-01</td>\n",
              "      <td>F</td>\n",
              "      <td>2.0</td>\n",
              "      <td>44</td>\n",
              "    </tr>\n",
              "    <tr>\n",
              "      <th>4</th>\n",
              "      <td>268073</td>\n",
              "      <td>1970-11-01</td>\n",
              "      <td>M</td>\n",
              "      <td>1.0</td>\n",
              "      <td>44</td>\n",
              "    </tr>\n",
              "    <tr>\n",
              "      <th>...</th>\n",
              "      <td>...</td>\n",
              "      <td>...</td>\n",
              "      <td>...</td>\n",
              "      <td>...</td>\n",
              "      <td>...</td>\n",
              "    </tr>\n",
              "    <tr>\n",
              "      <th>5642</th>\n",
              "      <td>274474</td>\n",
              "      <td>1992-12-19</td>\n",
              "      <td>M</td>\n",
              "      <td>2.0</td>\n",
              "      <td>22</td>\n",
              "    </tr>\n",
              "    <tr>\n",
              "      <th>5643</th>\n",
              "      <td>267666</td>\n",
              "      <td>1992-12-24</td>\n",
              "      <td>M</td>\n",
              "      <td>6.0</td>\n",
              "      <td>22</td>\n",
              "    </tr>\n",
              "    <tr>\n",
              "      <th>5644</th>\n",
              "      <td>270476</td>\n",
              "      <td>1992-12-25</td>\n",
              "      <td>F</td>\n",
              "      <td>3.0</td>\n",
              "      <td>22</td>\n",
              "    </tr>\n",
              "    <tr>\n",
              "      <th>5645</th>\n",
              "      <td>269626</td>\n",
              "      <td>1992-12-27</td>\n",
              "      <td>F</td>\n",
              "      <td>5.0</td>\n",
              "      <td>22</td>\n",
              "    </tr>\n",
              "    <tr>\n",
              "      <th>5646</th>\n",
              "      <td>274308</td>\n",
              "      <td>1992-12-29</td>\n",
              "      <td>F</td>\n",
              "      <td>5.0</td>\n",
              "      <td>22</td>\n",
              "    </tr>\n",
              "  </tbody>\n",
              "</table>\n",
              "<p>5647 rows × 5 columns</p>\n",
              "</div>\n",
              "      <button class=\"colab-df-convert\" onclick=\"convertToInteractive('df-306cdbba-e75e-401d-bae0-f940b192f125')\"\n",
              "              title=\"Convert this dataframe to an interactive table.\"\n",
              "              style=\"display:none;\">\n",
              "        \n",
              "  <svg xmlns=\"http://www.w3.org/2000/svg\" height=\"24px\"viewBox=\"0 0 24 24\"\n",
              "       width=\"24px\">\n",
              "    <path d=\"M0 0h24v24H0V0z\" fill=\"none\"/>\n",
              "    <path d=\"M18.56 5.44l.94 2.06.94-2.06 2.06-.94-2.06-.94-.94-2.06-.94 2.06-2.06.94zm-11 1L8.5 8.5l.94-2.06 2.06-.94-2.06-.94L8.5 2.5l-.94 2.06-2.06.94zm10 10l.94 2.06.94-2.06 2.06-.94-2.06-.94-.94-2.06-.94 2.06-2.06.94z\"/><path d=\"M17.41 7.96l-1.37-1.37c-.4-.4-.92-.59-1.43-.59-.52 0-1.04.2-1.43.59L10.3 9.45l-7.72 7.72c-.78.78-.78 2.05 0 2.83L4 21.41c.39.39.9.59 1.41.59.51 0 1.02-.2 1.41-.59l7.78-7.78 2.81-2.81c.8-.78.8-2.07 0-2.86zM5.41 20L4 18.59l7.72-7.72 1.47 1.35L5.41 20z\"/>\n",
              "  </svg>\n",
              "      </button>\n",
              "      \n",
              "  <style>\n",
              "    .colab-df-container {\n",
              "      display:flex;\n",
              "      flex-wrap:wrap;\n",
              "      gap: 12px;\n",
              "    }\n",
              "\n",
              "    .colab-df-convert {\n",
              "      background-color: #E8F0FE;\n",
              "      border: none;\n",
              "      border-radius: 50%;\n",
              "      cursor: pointer;\n",
              "      display: none;\n",
              "      fill: #1967D2;\n",
              "      height: 32px;\n",
              "      padding: 0 0 0 0;\n",
              "      width: 32px;\n",
              "    }\n",
              "\n",
              "    .colab-df-convert:hover {\n",
              "      background-color: #E2EBFA;\n",
              "      box-shadow: 0px 1px 2px rgba(60, 64, 67, 0.3), 0px 1px 3px 1px rgba(60, 64, 67, 0.15);\n",
              "      fill: #174EA6;\n",
              "    }\n",
              "\n",
              "    [theme=dark] .colab-df-convert {\n",
              "      background-color: #3B4455;\n",
              "      fill: #D2E3FC;\n",
              "    }\n",
              "\n",
              "    [theme=dark] .colab-df-convert:hover {\n",
              "      background-color: #434B5C;\n",
              "      box-shadow: 0px 1px 3px 1px rgba(0, 0, 0, 0.15);\n",
              "      filter: drop-shadow(0px 1px 2px rgba(0, 0, 0, 0.3));\n",
              "      fill: #FFFFFF;\n",
              "    }\n",
              "  </style>\n",
              "\n",
              "      <script>\n",
              "        const buttonEl =\n",
              "          document.querySelector('#df-306cdbba-e75e-401d-bae0-f940b192f125 button.colab-df-convert');\n",
              "        buttonEl.style.display =\n",
              "          google.colab.kernel.accessAllowed ? 'block' : 'none';\n",
              "\n",
              "        async function convertToInteractive(key) {\n",
              "          const element = document.querySelector('#df-306cdbba-e75e-401d-bae0-f940b192f125');\n",
              "          const dataTable =\n",
              "            await google.colab.kernel.invokeFunction('convertToInteractive',\n",
              "                                                     [key], {});\n",
              "          if (!dataTable) return;\n",
              "\n",
              "          const docLinkHtml = 'Like what you see? Visit the ' +\n",
              "            '<a target=\"_blank\" href=https://colab.research.google.com/notebooks/data_table.ipynb>data table notebook</a>'\n",
              "            + ' to learn more about interactive tables.';\n",
              "          element.innerHTML = '';\n",
              "          dataTable['output_type'] = 'display_data';\n",
              "          await google.colab.output.renderOutput(dataTable, element);\n",
              "          const docLink = document.createElement('div');\n",
              "          docLink.innerHTML = docLinkHtml;\n",
              "          element.appendChild(docLink);\n",
              "        }\n",
              "      </script>\n",
              "    </div>\n",
              "  </div>\n",
              "  "
            ]
          },
          "metadata": {}
        }
      ]
    }
  ]
}