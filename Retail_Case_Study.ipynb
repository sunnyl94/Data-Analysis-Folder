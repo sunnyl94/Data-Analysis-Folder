{
  "nbformat": 4,
  "nbformat_minor": 0,
  "metadata": {
    "colab": {
      "provenance": [],
      "mount_file_id": "1dp8qfTqcAR_rnyCMzoh5bQvpjvXHU7UR",
      "authorship_tag": "ABX9TyPDrMkA8tGGw60jnG3+8oZ2",
      "include_colab_link": true
    },
    "kernelspec": {
      "name": "python3",
      "display_name": "Python 3"
    },
    "language_info": {
      "name": "python"
    }
  },
  "cells": [
    {
      "cell_type": "markdown",
      "metadata": {
        "id": "view-in-github",
        "colab_type": "text"
      },
      "source": [
        "<a href=\"https://colab.research.google.com/github/sunnyl94/Data-Analysis-Folder/blob/main/Retail_Case_Study.ipynb\" target=\"_parent\"><img src=\"https://colab.research.google.com/assets/colab-badge.svg\" alt=\"Open In Colab\"/></a>"
      ]
    },
    {
      "cell_type": "markdown",
      "source": [
        "# 마케팅 고객 데이터 분석\n",
        "\n",
        "<!-- 출처 https://www.kaggle.com/datasets/darpan25bajaj/retail-case-study-data -->"
      ],
      "metadata": {
        "id": "yBdE2Bq713BA"
      }
    },
    {
      "cell_type": "code",
      "source": [
        "# !sudo apt-get install -y fonts-nanum\n",
        "# !sudo fc-cache -fv\n",
        "# !rm ~/.cache/matplotlib -rf"
      ],
      "metadata": {
        "id": "MAfb8HLjMcTn"
      },
      "execution_count": 1,
      "outputs": []
    },
    {
      "cell_type": "code",
      "source": [
        "# 필요한 library 설치\n",
        "import pandas as pd\n",
        "import numpy as np\n",
        "import matplotlib.pyplot as plt\n",
        "%matplotlib inline\n",
        "plt.rc('font', family='NanumBarunGothic')\n",
        "\n",
        "import warnings\n",
        "warnings.filterwarnings(\"ignore\")"
      ],
      "metadata": {
        "id": "Xkz4mFFmye_e"
      },
      "execution_count": 2,
      "outputs": []
    },
    {
      "cell_type": "code",
      "execution_count": 3,
      "metadata": {
        "id": "Yd_t_iiyxvO3"
      },
      "outputs": [],
      "source": [
        "# 데이터 임포트\n",
        "customer = pd.read_csv(\"/content/drive/MyDrive/workspace/Data Analysis/Retail Case Study/data/Customer.csv\")\n",
        "transaction = pd.read_csv(\"/content/drive/MyDrive/workspace/Data Analysis/Retail Case Study/data/Transactions.csv\")\n",
        "prod_info = pd.read_csv(\"/content/drive/MyDrive/workspace/Data Analysis/Retail Case Study/data/prod_cat_info.csv\")"
      ]
    },
    {
      "cell_type": "code",
      "source": [
        "print(\"customer: \", customer.shape)\n",
        "print(\"transaction: \", transaction.shape)\n",
        "print(\"prod_info: \", prod_info.shape)"
      ],
      "metadata": {
        "colab": {
          "base_uri": "https://localhost:8080/"
        },
        "id": "Nxj1_y2L3kBL",
        "outputId": "c392a3ca-6962-4605-bd13-014438da0806"
      },
      "execution_count": 4,
      "outputs": [
        {
          "output_type": "stream",
          "name": "stdout",
          "text": [
            "customer:  (5647, 4)\n",
            "transaction:  (23051, 10)\n",
            "prod_info:  (23, 4)\n"
          ]
        }
      ]
    },
    {
      "cell_type": "markdown",
      "source": [
        "---\n",
        "# **1. 데이터 전처리**\n",
        "\n"
      ],
      "metadata": {
        "id": "HhaE1ZqWyBKL"
      }
    },
    {
      "cell_type": "code",
      "source": [
        "# DOB (Date of Birth) 컬럼이 object 타입으로 설정되어 있어 날짜로 변환 필요\n",
        "customer.dtypes"
      ],
      "metadata": {
        "colab": {
          "base_uri": "https://localhost:8080/"
        },
        "id": "MGsh7oz5ddhK",
        "outputId": "c3748462-2f7b-4aba-9f90-0ab009eea3e5"
      },
      "execution_count": 5,
      "outputs": [
        {
          "output_type": "execute_result",
          "data": {
            "text/plain": [
              "customer_Id      int64\n",
              "DOB             object\n",
              "Gender          object\n",
              "city_code      float64\n",
              "dtype: object"
            ]
          },
          "metadata": {},
          "execution_count": 5
        }
      ]
    },
    {
      "cell_type": "code",
      "source": [
        "customer[\"DOB\"] = pd.to_datetime(customer[\"DOB\"])\n",
        "customer.dtypes"
      ],
      "metadata": {
        "colab": {
          "base_uri": "https://localhost:8080/"
        },
        "id": "bOeieQ2_dvWv",
        "outputId": "54b659bd-f3ff-4629-f192-1e39464f5077"
      },
      "execution_count": 6,
      "outputs": [
        {
          "output_type": "execute_result",
          "data": {
            "text/plain": [
              "customer_Id             int64\n",
              "DOB            datetime64[ns]\n",
              "Gender                 object\n",
              "city_code             float64\n",
              "dtype: object"
            ]
          },
          "metadata": {},
          "execution_count": 6
        }
      ]
    },
    {
      "cell_type": "code",
      "source": [
        "# null value가 없다\n",
        "transaction.isnull().sum()"
      ],
      "metadata": {
        "colab": {
          "base_uri": "https://localhost:8080/"
        },
        "id": "Spi9LUB2b0Gs",
        "outputId": "dd6ad236-2345-4228-d3a6-a26ce65a3907"
      },
      "execution_count": 7,
      "outputs": [
        {
          "output_type": "execute_result",
          "data": {
            "text/plain": [
              "transaction_id      0\n",
              "cust_id             0\n",
              "tran_date           0\n",
              "prod_subcat_code    0\n",
              "prod_cat_code       0\n",
              "Qty                 0\n",
              "Rate                0\n",
              "Tax                 0\n",
              "total_amt           0\n",
              "Store_type          0\n",
              "dtype: int64"
            ]
          },
          "metadata": {},
          "execution_count": 7
        }
      ]
    },
    {
      "cell_type": "code",
      "source": [
        "# tran_date 컬럼이 object 타입으로 설정되어 있어 날짜로 변환이 필요\n",
        "transaction.dtypes"
      ],
      "metadata": {
        "colab": {
          "base_uri": "https://localhost:8080/"
        },
        "id": "F9bajGznzE8t",
        "outputId": "38130acb-361b-42a2-991c-e548ca749140"
      },
      "execution_count": 8,
      "outputs": [
        {
          "output_type": "execute_result",
          "data": {
            "text/plain": [
              "transaction_id        int64\n",
              "cust_id               int64\n",
              "tran_date            object\n",
              "prod_subcat_code      int64\n",
              "prod_cat_code         int64\n",
              "Qty                   int64\n",
              "Rate                  int64\n",
              "Tax                 float64\n",
              "total_amt           float64\n",
              "Store_type           object\n",
              "dtype: object"
            ]
          },
          "metadata": {},
          "execution_count": 8
        }
      ]
    },
    {
      "cell_type": "code",
      "source": [
        "transaction[\"tran_date\"] = pd.to_datetime(transaction['tran_date'])\n",
        "transaction.dtypes"
      ],
      "metadata": {
        "colab": {
          "base_uri": "https://localhost:8080/"
        },
        "id": "s48xrOBZbfR5",
        "outputId": "449d0afb-b791-4735-8c5b-76a34931bc3f"
      },
      "execution_count": 9,
      "outputs": [
        {
          "output_type": "execute_result",
          "data": {
            "text/plain": [
              "transaction_id               int64\n",
              "cust_id                      int64\n",
              "tran_date           datetime64[ns]\n",
              "prod_subcat_code             int64\n",
              "prod_cat_code                int64\n",
              "Qty                          int64\n",
              "Rate                         int64\n",
              "Tax                        float64\n",
              "total_amt                  float64\n",
              "Store_type                  object\n",
              "dtype: object"
            ]
          },
          "metadata": {},
          "execution_count": 9
        }
      ]
    },
    {
      "cell_type": "code",
      "source": [
        "# null value가 없다\n",
        "prod_info.isnull().sum()"
      ],
      "metadata": {
        "colab": {
          "base_uri": "https://localhost:8080/"
        },
        "id": "rLg7UDwUVLya",
        "outputId": "3a062a24-f657-4342-9a00-0acf318b64b7"
      },
      "execution_count": 10,
      "outputs": [
        {
          "output_type": "execute_result",
          "data": {
            "text/plain": [
              "prod_cat_code        0\n",
              "prod_cat             0\n",
              "prod_sub_cat_code    0\n",
              "prod_subcat          0\n",
              "dtype: int64"
            ]
          },
          "metadata": {},
          "execution_count": 10
        }
      ]
    },
    {
      "cell_type": "code",
      "source": [
        "# 각 컬럼 타입들이 잘 매칭되어 있다\n",
        "prod_info.dtypes"
      ],
      "metadata": {
        "colab": {
          "base_uri": "https://localhost:8080/"
        },
        "id": "4HtZVsE5VTIr",
        "outputId": "550ce39e-32fe-43e2-dbf5-b808f7027683"
      },
      "execution_count": 11,
      "outputs": [
        {
          "output_type": "execute_result",
          "data": {
            "text/plain": [
              "prod_cat_code         int64\n",
              "prod_cat             object\n",
              "prod_sub_cat_code     int64\n",
              "prod_subcat          object\n",
              "dtype: object"
            ]
          },
          "metadata": {},
          "execution_count": 11
        }
      ]
    },
    {
      "cell_type": "markdown",
      "source": [
        "## 1.a 파생 데이터\n",
        "\n",
        "\n",
        "\n",
        "\n",
        "\n"
      ],
      "metadata": {
        "id": "a_wB1vRufs3R"
      }
    },
    {
      "cell_type": "markdown",
      "source": [
        "데이터가 2014년도에 만들어진 데이터이기 떄문에 2014년도 기준 고객 (만)나이 컬럼을 생성해줄 필요가 있다\n",
        "\n"
      ],
      "metadata": {
        "id": "sKKc5dSxOKY1"
      }
    },
    {
      "cell_type": "code",
      "source": [
        "customer['age'] = 2014 - customer[\"DOB\"].dt.year"
      ],
      "metadata": {
        "id": "kF9u5iJaNtjQ"
      },
      "execution_count": 12,
      "outputs": []
    },
    {
      "cell_type": "markdown",
      "source": [
        "> 주문 건수, 취소 건수, 상품 전환율을 분석하기 위해 거래 상태를 구분할 수 있는 컬럼이 필요\n",
        "\n",
        "> transaction table에 \"Order_status\" 컬럼을 추가\n",
        "*   상품이 취소 되었으면 \"cancel\"\n",
        "*   상품이 주문 되었으면 \"order\""
      ],
      "metadata": {
        "id": "KL3RLZ9xNzvD"
      }
    },
    {
      "cell_type": "code",
      "source": [
        "transaction[\"order_status\"] = np.where(transaction[\"Qty\"] < 0, \"cancel\", \"order\")\n",
        "transaction.head()"
      ],
      "metadata": {
        "id": "KV27CSQJfpjk"
      },
      "execution_count": null,
      "outputs": []
    },
    {
      "cell_type": "code",
      "source": [
        "transaction.shape"
      ],
      "metadata": {
        "colab": {
          "base_uri": "https://localhost:8080/"
        },
        "id": "AGcZModxE_CR",
        "outputId": "ec6c7239-9eb5-40b6-fc7a-c4975eaefc08"
      },
      "execution_count": 77,
      "outputs": [
        {
          "output_type": "execute_result",
          "data": {
            "text/plain": [
              "(23051, 14)"
            ]
          },
          "metadata": {},
          "execution_count": 77
        }
      ]
    },
    {
      "cell_type": "markdown",
      "source": [
        "\n",
        "\n",
        "> transaction table에 \"confirmed\" 컬럼을 추가\n",
        "\n",
        "1.   상품이 [주문 후 취소] 되었거나 혹은 원래 [취소] 상태였으면 되었으면 \"cancel\"\n",
        "2.   상품이 주문 [완료] 되었으면 \"confirmed\"\n",
        "\n",
        "\n",
        "\n"
      ],
      "metadata": {
        "id": "F1WYysOEzwUm"
      }
    },
    {
      "cell_type": "code",
      "source": [
        "# 주문이 완전히 취소된 행만을 추출한 후 \"Order_status\"를 새로 추가할 \"confirmed\"라는 컬럼명으로 바꾼다\n",
        "cancel_confirmed = transaction[transaction[\"order_status\"] == \"cancel\"][[\"transaction_id\", \"order_status\"]].drop_duplicates().rename(columns={\"order_status\":\"confirmed\"})\n",
        "\n",
        "# transaction table과 cancel_confirmed table을 합쳐 주문 후 취소한 상품 표시\n",
        "transaction = pd.merge(transaction, cancel_confirmed, on=\"transaction_id\", how=\"left\")\n",
        "\n",
        "# NaN value를 주문 되었다는 \"confirmed\"로 바꾸기\n",
        "transaction[\"confirmed\"] = transaction[\"confirmed\"].replace(np.nan, \"confirm\")\n",
        "\n",
        "transaction.head()"
      ],
      "metadata": {
        "id": "AFtM1DgFfpyA"
      },
      "execution_count": null,
      "outputs": []
    },
    {
      "cell_type": "code",
      "source": [
        "num_cancel = transaction[transaction[\"order_status\"] == \"cancel\"][\"order_status\"].count()\n",
        "num_order = transaction[transaction[\"order_status\"] == \"order\"][\"order_status\"].count()\n",
        "num_confirm = transaction[transaction[\"confirmed\"] == \"confirm\"][\"confirmed\"].count()\n",
        "\n",
        "print(num_order, num_cancel, num_order - num_cancel, num_confirm)"
      ],
      "metadata": {
        "colab": {
          "base_uri": "https://localhost:8080/"
        },
        "id": "afrFJfN5fp8Y",
        "outputId": "00f45cdb-9f5d-45cb-8c3f-d30be2589d34"
      },
      "execution_count": 16,
      "outputs": [
        {
          "output_type": "stream",
          "name": "stdout",
          "text": [
            "20876 2175 18701 18819\n"
          ]
        }
      ]
    },
    {
      "cell_type": "markdown",
      "source": [
        "\n",
        "> 문제: 총 주문 건수에서 총 취소 건수를 뺀 결과값과 \"confirmed\" 컬럼에서 확정된 총 주문수 불일치<br>\n",
        "이상치 혹은 결측치가 존재한다는 뜻이기에 제거 필요\n",
        "\n",
        "\n"
      ],
      "metadata": {
        "id": "eXmlD3I6KKxe"
      }
    },
    {
      "cell_type": "markdown",
      "source": [
        "## 1.b 이상치 / 결측치 데이터 처리"
      ],
      "metadata": {
        "id": "TObseIsfZwe_"
      }
    },
    {
      "cell_type": "markdown",
      "source": [
        "### 1.b.i 이상치"
      ],
      "metadata": {
        "id": "rzgIIyCTZzp7"
      }
    },
    {
      "cell_type": "code",
      "source": [
        "transaction[\"transaction_id\"].value_counts().head()"
      ],
      "metadata": {
        "colab": {
          "base_uri": "https://localhost:8080/"
        },
        "id": "BPIkRoONfqEq",
        "outputId": "57fc7b76-4f4e-4d95-b30b-bbb4d7235b64"
      },
      "execution_count": 76,
      "outputs": [
        {
          "output_type": "execute_result",
          "data": {
            "text/plain": [
              "4170892941     4\n",
              "426787191      4\n",
              "32263938079    4\n",
              "81802961273    3\n",
              "74269001881    3\n",
              "Name: transaction_id, dtype: int64"
            ]
          },
          "metadata": {},
          "execution_count": 76
        }
      ]
    },
    {
      "cell_type": "markdown",
      "source": [
        "\n",
        "\n",
        "> 하나의 transaction id에 최대 2개 row가 존재할 수 있지만 확인 결과 3개 이상의 row가 있는것이 확인 됨\n",
        "\n",
        "\n"
      ],
      "metadata": {
        "id": "TyD2pT-tYxDs"
      }
    },
    {
      "cell_type": "code",
      "source": [
        "# transaction id는 같아도 tran_date가 다를 수 있기 때문에 drop_duplicates()는 사용 불가\n",
        "# transaction id와 order_status를 비교 후 중복으로 들어간 행만 제거 필요\n",
        "\n",
        "\n",
        "# transaction id와 order_status의 내용을 합친 리스트를 만들고 transaction table에 추가\n",
        "key = map(lambda id, status : str(id) + str(status), transaction[\"transaction_id\"], transaction[\"order_status\"])\n",
        "transaction[\"key\"] = list(key)\n",
        "transaction.head()"
      ],
      "metadata": {
        "id": "_jVospEZl9mP"
      },
      "execution_count": null,
      "outputs": []
    },
    {
      "cell_type": "code",
      "source": [
        "# transaction table을 cust_id, transaction_id, tran_date 순으로 정렬 \n",
        "transaction.sort_values(by=[\"cust_id\", \"transaction_id\", \"tran_date\"], inplace=True, ignore_index=True)"
      ],
      "metadata": {
        "id": "2ddhjloonWJ3"
      },
      "execution_count": 19,
      "outputs": []
    },
    {
      "cell_type": "code",
      "source": [
        "# duplicate가 있는지 확인\n",
        "# 1이면 중복이 아니고 0이면 중복\n",
        "transaction[\"chk\"] = np.where(transaction[\"key\"] != transaction[\"key\"].shift(-1), 1, 0)\n",
        "\n",
        "# 1인것만 남기기\n",
        "filtered_trans = transaction[transaction[\"chk\"] == 1].reset_index(drop=True)"
      ],
      "metadata": {
        "id": "1iJl1BzQopzC"
      },
      "execution_count": 20,
      "outputs": []
    },
    {
      "cell_type": "code",
      "source": [
        "num_cancel = filtered_trans[filtered_trans[\"order_status\"] == \"cancel\"][\"order_status\"].count()\n",
        "num_order = filtered_trans[filtered_trans[\"order_status\"] == \"order\"][\"order_status\"].count()\n",
        "num_confirm = filtered_trans[filtered_trans[\"confirmed\"] == \"confirm\"][\"confirmed\"].count()\n",
        "\n",
        "print(num_order, num_cancel, num_order - num_cancel, num_confirm)"
      ],
      "metadata": {
        "colab": {
          "base_uri": "https://localhost:8080/"
        },
        "id": "AXVIN2opalxE",
        "outputId": "5bc805a4-6eb0-4db0-978f-7dc05510c91b"
      },
      "execution_count": 21,
      "outputs": [
        {
          "output_type": "stream",
          "name": "stdout",
          "text": [
            "20876 2057 18819 18819\n"
          ]
        }
      ]
    },
    {
      "cell_type": "markdown",
      "source": [
        "### 1.b.ii 결측치"
      ],
      "metadata": {
        "id": "MyF2pRiGZ3Qp"
      }
    },
    {
      "cell_type": "code",
      "source": [
        "# Gender와 city_code 컬럼에 각각 2개의 null value가 존재\n",
        "customer.isnull().sum()"
      ],
      "metadata": {
        "colab": {
          "base_uri": "https://localhost:8080/"
        },
        "id": "lPVGHymral6_",
        "outputId": "8a544bbf-1c3c-4909-81c7-dd7223d1f00e"
      },
      "execution_count": 22,
      "outputs": [
        {
          "output_type": "execute_result",
          "data": {
            "text/plain": [
              "customer_Id    0\n",
              "DOB            0\n",
              "Gender         2\n",
              "city_code      2\n",
              "age            0\n",
              "dtype: int64"
            ]
          },
          "metadata": {},
          "execution_count": 22
        }
      ]
    },
    {
      "cell_type": "code",
      "source": [
        "# Gener는 M,F,none으로 세개의 범주를 만들어 결측치 해결\n",
        "customer.fillna(value={\"Gender\":\"none\"}, inplace=True)"
      ],
      "metadata": {
        "id": "bi0pLGz1al9U"
      },
      "execution_count": 23,
      "outputs": []
    },
    {
      "cell_type": "code",
      "source": [
        "# city_code는 최빈값으로 결측치 해결\n",
        "customer.fillna(value={\"city_code\":customer[\"city_code\"].mode()[0]}, inplace=True)"
      ],
      "metadata": {
        "id": "Ih0-tTGucIFf"
      },
      "execution_count": 24,
      "outputs": []
    },
    {
      "cell_type": "markdown",
      "source": [
        "## 1.c 테이블 조인\n",
        "\n",
        "> Transaction Table안에 category code가 존재하지만 명칭이 없기 때문에 Transaction table과 prod_cat_info Table을 조인 필요\n",
        "\n"
      ],
      "metadata": {
        "id": "UnT7_nZberPf"
      }
    },
    {
      "cell_type": "code",
      "source": [
        "filtered_trans.head()"
      ],
      "metadata": {
        "id": "1ibCZOpdcI8N"
      },
      "execution_count": null,
      "outputs": []
    },
    {
      "cell_type": "code",
      "source": [
        "prod_info.head()"
      ],
      "metadata": {
        "id": "Z42enb2IcJLa"
      },
      "execution_count": null,
      "outputs": []
    },
    {
      "cell_type": "code",
      "source": [
        "# prod_cat_code 컬럼명은 같지만 prod_subcat_code 컬럼명은 다르기 때문에 조인을 쉽게 하기 위해 prod_info 테이블의 컬럼명을 transaction 테이블의 컬럼명과 똑같이 만들어 준다\n",
        "\n",
        "prod_info.rename(columns= {\"prod_sub_cat_code\":\"prod_subcat_code\"}, inplace=True)\n",
        "prod_info.head()"
      ],
      "metadata": {
        "id": "m-VjzwILcJnd"
      },
      "execution_count": null,
      "outputs": []
    },
    {
      "cell_type": "code",
      "source": [
        "# prod_info 테이블과 transaction 테이블 조인 진행\n",
        "\n",
        "new_data = pd.merge(\n",
        "    left = filtered_trans,\n",
        "    right = prod_info,\n",
        "    on = [\"prod_cat_code\", \"prod_subcat_code\"],\n",
        "    how = \"left\"\n",
        ")\n",
        "\n",
        "new_data.head()"
      ],
      "metadata": {
        "id": "-ZDCL7fjh0ba"
      },
      "execution_count": null,
      "outputs": []
    }
  ]
}