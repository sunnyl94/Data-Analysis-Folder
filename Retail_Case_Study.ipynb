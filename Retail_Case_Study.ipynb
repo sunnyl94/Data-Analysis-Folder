{
  "nbformat": 4,
  "nbformat_minor": 0,
  "metadata": {
    "colab": {
      "provenance": [],
      "mount_file_id": "1dp8qfTqcAR_rnyCMzoh5bQvpjvXHU7UR",
      "authorship_tag": "ABX9TyO+D9OWybFf1OOuPfnksfzD",
      "include_colab_link": true
    },
    "kernelspec": {
      "name": "python3",
      "display_name": "Python 3"
    },
    "language_info": {
      "name": "python"
    }
  },
  "cells": [
    {
      "cell_type": "markdown",
      "metadata": {
        "id": "view-in-github",
        "colab_type": "text"
      },
      "source": [
        "<a href=\"https://colab.research.google.com/github/sunnyl94/Data-Analysis-Folder/blob/main/Retail_Case_Study.ipynb\" target=\"_parent\"><img src=\"https://colab.research.google.com/assets/colab-badge.svg\" alt=\"Open In Colab\"/></a>"
      ]
    },
    {
      "cell_type": "markdown",
      "source": [
        "# 마케팅 고객 데이터 분석\n",
        "\n",
        "<!-- 출처 https://www.kaggle.com/datasets/darpan25bajaj/retail-case-study-data -->"
      ],
      "metadata": {
        "id": "yBdE2Bq713BA"
      }
    }
  ]
}