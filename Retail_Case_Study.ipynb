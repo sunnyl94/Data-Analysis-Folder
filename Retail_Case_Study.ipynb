{
  "nbformat": 4,
  "nbformat_minor": 0,
  "metadata": {
    "colab": {
      "provenance": [],
      "mount_file_id": "1dp8qfTqcAR_rnyCMzoh5bQvpjvXHU7UR",
      "authorship_tag": "ABX9TyORLtNLa6aHIr0U7QKAqGk5",
      "include_colab_link": true
    },
    "kernelspec": {
      "name": "python3",
      "display_name": "Python 3"
    },
    "language_info": {
      "name": "python"
    }
  },
  "cells": [
    {
      "cell_type": "markdown",
      "metadata": {
        "id": "view-in-github",
        "colab_type": "text"
      },
      "source": [
        "<a href=\"https://colab.research.google.com/github/sunnyl94/Data-Analysis-Folder/blob/main/Retail_Case_Study.ipynb\" target=\"_parent\"><img src=\"https://colab.research.google.com/assets/colab-badge.svg\" alt=\"Open In Colab\"/></a>"
      ]
    },
    {
      "cell_type": "markdown",
      "source": [
        "# 마케팅 고객 데이터 분석\n",
        "\n",
        "<!-- 출처 https://www.kaggle.com/datasets/darpan25bajaj/retail-case-study-data -->"
      ],
      "metadata": {
        "id": "yBdE2Bq713BA"
      }
    },
    {
      "cell_type": "code",
      "source": [
        "# !sudo apt-get install -y fonts-nanum\n",
        "# !sudo fc-cache -fv\n",
        "# !rm ~/.cache/matplotlib -rf"
      ],
      "metadata": {
        "id": "MAfb8HLjMcTn"
      },
      "execution_count": 1,
      "outputs": []
    },
    {
      "cell_type": "code",
      "source": [
        "# 필요한 library 설치\n",
        "import pandas as pd\n",
        "import numpy as np\n",
        "import matplotlib.pyplot as plt\n",
        "%matplotlib inline\n",
        "plt.rc('font', family='NanumBarunGothic')\n",
        "\n",
        "import warnings\n",
        "warnings.filterwarnings(\"ignore\")"
      ],
      "metadata": {
        "id": "Xkz4mFFmye_e"
      },
      "execution_count": 2,
      "outputs": []
    },
    {
      "cell_type": "code",
      "execution_count": 3,
      "metadata": {
        "id": "Yd_t_iiyxvO3"
      },
      "outputs": [],
      "source": [
        "# 데이터 임포트\n",
        "customer = pd.read_csv(\"/content/drive/MyDrive/workspace/Data Analysis/Retail Case Study/data/Customer.csv\")\n",
        "transaction = pd.read_csv(\"/content/drive/MyDrive/workspace/Data Analysis/Retail Case Study/data/Transactions.csv\")\n",
        "prod_info = pd.read_csv(\"/content/drive/MyDrive/workspace/Data Analysis/Retail Case Study/data/prod_cat_info.csv\")"
      ]
    },
    {
      "cell_type": "code",
      "source": [
        "print(\"customer: \", customer.shape)\n",
        "print(\"transaction: \", transaction.shape)\n",
        "print(\"prod_info: \", prod_info.shape)"
      ],
      "metadata": {
        "colab": {
          "base_uri": "https://localhost:8080/"
        },
        "id": "Nxj1_y2L3kBL",
        "outputId": "c392a3ca-6962-4605-bd13-014438da0806"
      },
      "execution_count": 4,
      "outputs": [
        {
          "output_type": "stream",
          "name": "stdout",
          "text": [
            "customer:  (5647, 4)\n",
            "transaction:  (23051, 10)\n",
            "prod_info:  (23, 4)\n"
          ]
        }
      ]
    },
    {
      "cell_type": "markdown",
      "source": [
        "---\n",
        "# **1. 데이터 전처리**\n",
        "\n"
      ],
      "metadata": {
        "id": "HhaE1ZqWyBKL"
      }
    },
    {
      "cell_type": "code",
      "source": [
        "# DOB (Date of Birth) 컬럼이 object 타입으로 설정되어 있어 날짜로 변환 필요\n",
        "customer.dtypes"
      ],
      "metadata": {
        "colab": {
          "base_uri": "https://localhost:8080/"
        },
        "id": "MGsh7oz5ddhK",
        "outputId": "c3748462-2f7b-4aba-9f90-0ab009eea3e5"
      },
      "execution_count": 5,
      "outputs": [
        {
          "output_type": "execute_result",
          "data": {
            "text/plain": [
              "customer_Id      int64\n",
              "DOB             object\n",
              "Gender          object\n",
              "city_code      float64\n",
              "dtype: object"
            ]
          },
          "metadata": {},
          "execution_count": 5
        }
      ]
    },
    {
      "cell_type": "code",
      "source": [
        "customer[\"DOB\"] = pd.to_datetime(customer[\"DOB\"])\n",
        "customer.dtypes"
      ],
      "metadata": {
        "colab": {
          "base_uri": "https://localhost:8080/"
        },
        "id": "bOeieQ2_dvWv",
        "outputId": "54b659bd-f3ff-4629-f192-1e39464f5077"
      },
      "execution_count": 6,
      "outputs": [
        {
          "output_type": "execute_result",
          "data": {
            "text/plain": [
              "customer_Id             int64\n",
              "DOB            datetime64[ns]\n",
              "Gender                 object\n",
              "city_code             float64\n",
              "dtype: object"
            ]
          },
          "metadata": {},
          "execution_count": 6
        }
      ]
    },
    {
      "cell_type": "code",
      "source": [
        "# null value가 없다\n",
        "transaction.isnull().sum()"
      ],
      "metadata": {
        "colab": {
          "base_uri": "https://localhost:8080/"
        },
        "id": "Spi9LUB2b0Gs",
        "outputId": "dd6ad236-2345-4228-d3a6-a26ce65a3907"
      },
      "execution_count": 7,
      "outputs": [
        {
          "output_type": "execute_result",
          "data": {
            "text/plain": [
              "transaction_id      0\n",
              "cust_id             0\n",
              "tran_date           0\n",
              "prod_subcat_code    0\n",
              "prod_cat_code       0\n",
              "Qty                 0\n",
              "Rate                0\n",
              "Tax                 0\n",
              "total_amt           0\n",
              "Store_type          0\n",
              "dtype: int64"
            ]
          },
          "metadata": {},
          "execution_count": 7
        }
      ]
    },
    {
      "cell_type": "code",
      "source": [
        "# tran_date 컬럼이 object 타입으로 설정되어 있어 날짜로 변환이 필요\n",
        "transaction.dtypes"
      ],
      "metadata": {
        "colab": {
          "base_uri": "https://localhost:8080/"
        },
        "id": "F9bajGznzE8t",
        "outputId": "38130acb-361b-42a2-991c-e548ca749140"
      },
      "execution_count": 8,
      "outputs": [
        {
          "output_type": "execute_result",
          "data": {
            "text/plain": [
              "transaction_id        int64\n",
              "cust_id               int64\n",
              "tran_date            object\n",
              "prod_subcat_code      int64\n",
              "prod_cat_code         int64\n",
              "Qty                   int64\n",
              "Rate                  int64\n",
              "Tax                 float64\n",
              "total_amt           float64\n",
              "Store_type           object\n",
              "dtype: object"
            ]
          },
          "metadata": {},
          "execution_count": 8
        }
      ]
    },
    {
      "cell_type": "code",
      "source": [
        "transaction[\"tran_date\"] = pd.to_datetime(transaction['tran_date'])\n",
        "transaction.dtypes"
      ],
      "metadata": {
        "colab": {
          "base_uri": "https://localhost:8080/"
        },
        "id": "s48xrOBZbfR5",
        "outputId": "449d0afb-b791-4735-8c5b-76a34931bc3f"
      },
      "execution_count": 9,
      "outputs": [
        {
          "output_type": "execute_result",
          "data": {
            "text/plain": [
              "transaction_id               int64\n",
              "cust_id                      int64\n",
              "tran_date           datetime64[ns]\n",
              "prod_subcat_code             int64\n",
              "prod_cat_code                int64\n",
              "Qty                          int64\n",
              "Rate                         int64\n",
              "Tax                        float64\n",
              "total_amt                  float64\n",
              "Store_type                  object\n",
              "dtype: object"
            ]
          },
          "metadata": {},
          "execution_count": 9
        }
      ]
    },
    {
      "cell_type": "code",
      "source": [
        "# null value가 없다\n",
        "prod_info.isnull().sum()"
      ],
      "metadata": {
        "colab": {
          "base_uri": "https://localhost:8080/"
        },
        "id": "rLg7UDwUVLya",
        "outputId": "3a062a24-f657-4342-9a00-0acf318b64b7"
      },
      "execution_count": 10,
      "outputs": [
        {
          "output_type": "execute_result",
          "data": {
            "text/plain": [
              "prod_cat_code        0\n",
              "prod_cat             0\n",
              "prod_sub_cat_code    0\n",
              "prod_subcat          0\n",
              "dtype: int64"
            ]
          },
          "metadata": {},
          "execution_count": 10
        }
      ]
    },
    {
      "cell_type": "code",
      "source": [
        "# 각 컬럼 타입들이 잘 매칭되어 있다\n",
        "prod_info.dtypes"
      ],
      "metadata": {
        "colab": {
          "base_uri": "https://localhost:8080/"
        },
        "id": "4HtZVsE5VTIr",
        "outputId": "550ce39e-32fe-43e2-dbf5-b808f7027683"
      },
      "execution_count": 11,
      "outputs": [
        {
          "output_type": "execute_result",
          "data": {
            "text/plain": [
              "prod_cat_code         int64\n",
              "prod_cat             object\n",
              "prod_sub_cat_code     int64\n",
              "prod_subcat          object\n",
              "dtype: object"
            ]
          },
          "metadata": {},
          "execution_count": 11
        }
      ]
    },
    {
      "cell_type": "markdown",
      "source": [
        "## 1.a 파생 데이터\n",
        "\n",
        "\n",
        "\n",
        "\n",
        "\n"
      ],
      "metadata": {
        "id": "a_wB1vRufs3R"
      }
    },
    {
      "cell_type": "markdown",
      "source": [
        "데이터가 2014년도에 만들어진 데이터이기 떄문에 2014년도 기준 고객 (만)나이 컬럼을 생성해줄 필요가 있다\n",
        "\n"
      ],
      "metadata": {
        "id": "sKKc5dSxOKY1"
      }
    },
    {
      "cell_type": "code",
      "source": [
        "customer['age'] = 2014 - customer[\"DOB\"].dt.year"
      ],
      "metadata": {
        "id": "kF9u5iJaNtjQ"
      },
      "execution_count": 12,
      "outputs": []
    },
    {
      "cell_type": "markdown",
      "source": [
        "> 주문 건수, 취소 건수, 상품 전환율을 분석하기 위해 거래 상태를 구분할 수 있는 컬럼이 필요\n",
        "\n",
        "> transaction table에 \"Order_status\" 컬럼을 추가\n",
        "*   상품이 취소 되었으면 \"cancel\"\n",
        "*   상품이 주문 되었으면 \"order\""
      ],
      "metadata": {
        "id": "KL3RLZ9xNzvD"
      }
    },
    {
      "cell_type": "code",
      "source": [
        "transaction[\"order_status\"] = np.where(transaction[\"Qty\"] < 0, \"cancel\", \"order\")\n",
        "transaction.head()"
      ],
      "metadata": {
        "id": "KV27CSQJfpjk"
      },
      "execution_count": null,
      "outputs": []
    },
    {
      "cell_type": "code",
      "source": [
        "transaction.shape"
      ],
      "metadata": {
        "colab": {
          "base_uri": "https://localhost:8080/"
        },
        "id": "AGcZModxE_CR",
        "outputId": "ec6c7239-9eb5-40b6-fc7a-c4975eaefc08"
      },
      "execution_count": 77,
      "outputs": [
        {
          "output_type": "execute_result",
          "data": {
            "text/plain": [
              "(23051, 14)"
            ]
          },
          "metadata": {},
          "execution_count": 77
        }
      ]
    },
    {
      "cell_type": "markdown",
      "source": [
        "\n",
        "\n",
        "> transaction table에 \"confirmed\" 컬럼을 추가\n",
        "\n",
        "1.   상품이 [주문 후 취소] 되었거나 혹은 원래 [취소] 상태였으면 되었으면 \"cancel\"\n",
        "2.   상품이 주문 [완료] 되었으면 \"confirmed\"\n",
        "\n",
        "\n",
        "\n"
      ],
      "metadata": {
        "id": "F1WYysOEzwUm"
      }
    },
    {
      "cell_type": "code",
      "source": [
        "# 주문이 완전히 취소된 행만을 추출한 후 \"Order_status\"를 새로 추가할 \"confirmed\"라는 컬럼명으로 바꾼다\n",
        "cancel_confirmed = transaction[transaction[\"order_status\"] == \"cancel\"][[\"transaction_id\", \"order_status\"]].drop_duplicates().rename(columns={\"order_status\":\"confirmed\"})\n",
        "\n",
        "# transaction table과 cancel_confirmed table을 합쳐 주문 후 취소한 상품 표시\n",
        "transaction = pd.merge(transaction, cancel_confirmed, on=\"transaction_id\", how=\"left\")\n",
        "\n",
        "# NaN value를 주문 되었다는 \"confirmed\"로 바꾸기\n",
        "transaction[\"confirmed\"] = transaction[\"confirmed\"].replace(np.nan, \"confirm\")\n",
        "\n",
        "transaction.head()"
      ],
      "metadata": {
        "id": "AFtM1DgFfpyA"
      },
      "execution_count": null,
      "outputs": []
    },
    {
      "cell_type": "code",
      "source": [
        "num_cancel = transaction[transaction[\"order_status\"] == \"cancel\"][\"order_status\"].count()\n",
        "num_order = transaction[transaction[\"order_status\"] == \"order\"][\"order_status\"].count()\n",
        "num_confirm = transaction[transaction[\"confirmed\"] == \"confirm\"][\"confirmed\"].count()\n",
        "\n",
        "print(num_order, num_cancel, num_order - num_cancel, num_confirm)"
      ],
      "metadata": {
        "colab": {
          "base_uri": "https://localhost:8080/"
        },
        "id": "afrFJfN5fp8Y",
        "outputId": "00f45cdb-9f5d-45cb-8c3f-d30be2589d34"
      },
      "execution_count": 16,
      "outputs": [
        {
          "output_type": "stream",
          "name": "stdout",
          "text": [
            "20876 2175 18701 18819\n"
          ]
        }
      ]
    },
    {
      "cell_type": "markdown",
      "source": [
        "\n",
        "> 문제: 총 주문 건수에서 총 취소 건수를 뺀 결과값과 \"confirmed\" 컬럼에서 확정된 총 주문수 불일치<br>\n",
        "이상치 혹은 결측치가 존재한다는 뜻이기에 제거 필요\n",
        "\n",
        "\n"
      ],
      "metadata": {
        "id": "eXmlD3I6KKxe"
      }
    },
    {
      "cell_type": "markdown",
      "source": [
        "## 1.b 이상치 / 결측치 데이터 처리"
      ],
      "metadata": {
        "id": "TObseIsfZwe_"
      }
    },
    {
      "cell_type": "markdown",
      "source": [
        "### 1.b.i 이상치"
      ],
      "metadata": {
        "id": "rzgIIyCTZzp7"
      }
    },
    {
      "cell_type": "code",
      "source": [
        "transaction[\"transaction_id\"].value_counts().head()"
      ],
      "metadata": {
        "colab": {
          "base_uri": "https://localhost:8080/"
        },
        "id": "BPIkRoONfqEq",
        "outputId": "57fc7b76-4f4e-4d95-b30b-bbb4d7235b64"
      },
      "execution_count": 76,
      "outputs": [
        {
          "output_type": "execute_result",
          "data": {
            "text/plain": [
              "4170892941     4\n",
              "426787191      4\n",
              "32263938079    4\n",
              "81802961273    3\n",
              "74269001881    3\n",
              "Name: transaction_id, dtype: int64"
            ]
          },
          "metadata": {},
          "execution_count": 76
        }
      ]
    },
    {
      "cell_type": "markdown",
      "source": [
        "\n",
        "\n",
        "> 하나의 transaction id에 최대 2개 row가 존재할 수 있지만 확인 결과 3개 이상의 row가 있는것이 확인 됨\n",
        "\n",
        "\n"
      ],
      "metadata": {
        "id": "TyD2pT-tYxDs"
      }
    },
    {
      "cell_type": "code",
      "source": [
        "# transaction id는 같아도 tran_date가 다를 수 있기 때문에 drop_duplicates()는 사용 불가\n",
        "# transaction id와 order_status를 비교 후 중복으로 들어간 행만 제거 필요\n",
        "\n",
        "\n",
        "# transaction id와 order_status의 내용을 합친 리스트를 만들고 transaction table에 추가\n",
        "key = map(lambda id, status : str(id) + str(status), transaction[\"transaction_id\"], transaction[\"order_status\"])\n",
        "transaction[\"key\"] = list(key)\n",
        "transaction.head()"
      ],
      "metadata": {
        "id": "_jVospEZl9mP"
      },
      "execution_count": null,
      "outputs": []
    },
    {
      "cell_type": "code",
      "source": [
        "# transaction table을 cust_id, transaction_id, tran_date 순으로 정렬 \n",
        "transaction.sort_values(by=[\"cust_id\", \"transaction_id\", \"tran_date\"], inplace=True, ignore_index=True)"
      ],
      "metadata": {
        "id": "2ddhjloonWJ3"
      },
      "execution_count": 19,
      "outputs": []
    },
    {
      "cell_type": "code",
      "source": [
        "# duplicate가 있는지 확인\n",
        "# 1이면 중복이 아니고 0이면 중복\n",
        "transaction[\"chk\"] = np.where(transaction[\"key\"] != transaction[\"key\"].shift(-1), 1, 0)\n",
        "\n",
        "# 1인것만 남기기\n",
        "filtered_trans = transaction[transaction[\"chk\"] == 1].reset_index(drop=True)"
      ],
      "metadata": {
        "id": "1iJl1BzQopzC"
      },
      "execution_count": 20,
      "outputs": []
    },
    {
      "cell_type": "code",
      "source": [
        "num_cancel = filtered_trans[filtered_trans[\"order_status\"] == \"cancel\"][\"order_status\"].count()\n",
        "num_order = filtered_trans[filtered_trans[\"order_status\"] == \"order\"][\"order_status\"].count()\n",
        "num_confirm = filtered_trans[filtered_trans[\"confirmed\"] == \"confirm\"][\"confirmed\"].count()\n",
        "\n",
        "print(num_order, num_cancel, num_order - num_cancel, num_confirm)"
      ],
      "metadata": {
        "colab": {
          "base_uri": "https://localhost:8080/"
        },
        "id": "AXVIN2opalxE",
        "outputId": "5bc805a4-6eb0-4db0-978f-7dc05510c91b"
      },
      "execution_count": 21,
      "outputs": [
        {
          "output_type": "stream",
          "name": "stdout",
          "text": [
            "20876 2057 18819 18819\n"
          ]
        }
      ]
    },
    {
      "cell_type": "markdown",
      "source": [
        "### 1.b.ii 결측치"
      ],
      "metadata": {
        "id": "MyF2pRiGZ3Qp"
      }
    },
    {
      "cell_type": "code",
      "source": [
        "# Gender와 city_code 컬럼에 각각 2개의 null value가 존재\n",
        "customer.isnull().sum()"
      ],
      "metadata": {
        "colab": {
          "base_uri": "https://localhost:8080/"
        },
        "id": "lPVGHymral6_",
        "outputId": "8a544bbf-1c3c-4909-81c7-dd7223d1f00e"
      },
      "execution_count": 22,
      "outputs": [
        {
          "output_type": "execute_result",
          "data": {
            "text/plain": [
              "customer_Id    0\n",
              "DOB            0\n",
              "Gender         2\n",
              "city_code      2\n",
              "age            0\n",
              "dtype: int64"
            ]
          },
          "metadata": {},
          "execution_count": 22
        }
      ]
    },
    {
      "cell_type": "code",
      "source": [
        "# Gener는 M,F,none으로 세개의 범주를 만들어 결측치 해결\n",
        "customer.fillna(value={\"Gender\":\"none\"}, inplace=True)"
      ],
      "metadata": {
        "id": "bi0pLGz1al9U"
      },
      "execution_count": 23,
      "outputs": []
    },
    {
      "cell_type": "code",
      "source": [
        "# city_code는 최빈값으로 결측치 해결\n",
        "customer.fillna(value={\"city_code\":customer[\"city_code\"].mode()[0]}, inplace=True)"
      ],
      "metadata": {
        "id": "Ih0-tTGucIFf"
      },
      "execution_count": 24,
      "outputs": []
    },
    {
      "cell_type": "markdown",
      "source": [
        "## 1.c 테이블 조인\n",
        "\n",
        "> Transaction Table안에 category code가 존재하지만 명칭이 없기 때문에 Transaction table과 prod_cat_info Table을 조인 필요\n",
        "\n"
      ],
      "metadata": {
        "id": "UnT7_nZberPf"
      }
    },
    {
      "cell_type": "code",
      "source": [
        "filtered_trans.head()"
      ],
      "metadata": {
        "id": "1ibCZOpdcI8N"
      },
      "execution_count": null,
      "outputs": []
    },
    {
      "cell_type": "code",
      "source": [
        "prod_info.head()"
      ],
      "metadata": {
        "id": "Z42enb2IcJLa"
      },
      "execution_count": null,
      "outputs": []
    },
    {
      "cell_type": "code",
      "source": [
        "# prod_cat_code 컬럼명은 같지만 prod_subcat_code 컬럼명은 다르기 때문에 조인을 쉽게 하기 위해 prod_info 테이블의 컬럼명을 transaction 테이블의 컬럼명과 똑같이 만들어 준다\n",
        "\n",
        "prod_info.rename(columns= {\"prod_sub_cat_code\":\"prod_subcat_code\"}, inplace=True)\n",
        "prod_info.head()"
      ],
      "metadata": {
        "id": "m-VjzwILcJnd"
      },
      "execution_count": null,
      "outputs": []
    },
    {
      "cell_type": "code",
      "source": [
        "# prod_info 테이블과 transaction 테이블 조인 진행\n",
        "\n",
        "new_data = pd.merge(\n",
        "    left = filtered_trans,\n",
        "    right = prod_info,\n",
        "    on = [\"prod_cat_code\", \"prod_subcat_code\"],\n",
        "    how = \"left\"\n",
        ")\n",
        "\n",
        "new_data.head()"
      ],
      "metadata": {
        "id": "-ZDCL7fjh0ba"
      },
      "execution_count": null,
      "outputs": []
    },
    {
      "cell_type": "markdown",
      "source": [
        "---\n",
        "\n",
        "# **2. 데이터 분석**"
      ],
      "metadata": {
        "id": "ku9GmzqjmMUE"
      }
    },
    {
      "cell_type": "markdown",
      "source": [
        "## 2.a 상품 전환율\n",
        "\n",
        "> 주문 거래 건 중 취소가 발생되지 않고 구매가 확정된 거래 건 비중\n",
        "\n",
        "**질문**\n",
        "> 1. 고관여 상품군의 상품 전환율이 높을 것인가?<br>\n",
        "        고관여 상픔의 특징\n",
        "        1. 구매 전 상품에 대한 탐색 과정이 길다\n",
        "        2. 거래 비용 발생이 상대적으로 크다\n",
        "\n"
      ],
      "metadata": {
        "id": "FKWuUYVmsWwT"
      }
    },
    {
      "cell_type": "code",
      "source": [
        "# prod_cat별 최종 구매 및 취소 수\n",
        "cvr = new_data.groupby([\"prod_cat\"])[\"confirmed\"].value_counts().unstack()\n",
        "\n",
        "# 전체 구매\n",
        "cvr[\"total\"] = new_data.groupby([\"prod_cat\"])[\"confirmed\"].count()\n",
        "\n",
        "# 모든 제품을 위한 total 만들기\n",
        "sum = cvr.sum()\n",
        "sum.name = \"Total\"\n",
        "\n",
        "cvr = cvr.append(sum.transpose())\n",
        "\n",
        "# 상품 전환율\n",
        "cvr[\"CVR(%)\"] = ((cvr[\"confirm\"] / cvr[\"total\"]) * 100).round(1)"
      ],
      "metadata": {
        "id": "vhCNnSusj2ZY"
      },
      "execution_count": null,
      "outputs": []
    },
    {
      "cell_type": "code",
      "source": [
        "# prod_subcat별 최종 구매 및 취소 수\n",
        "cvr_subcat = new_data.groupby([\"prod_cat\", \"prod_subcat\"])[\"confirmed\"].value_counts().unstack()\n",
        "\n",
        "# 전체 구매\n",
        "cvr_subcat[\"total\"] = new_data.groupby([\"prod_cat\", \"prod_subcat\"])[\"confirmed\"].count()\n",
        "\n",
        "# 상품 전환율\n",
        "cvr_subcat[\"CVR(%)\"] = ((cvr_subcat[\"confirm\"] / cvr_subcat[\"total\"]) * 100).round(1)"
      ],
      "metadata": {
        "id": "gFaG8CyJj2Ux"
      },
      "execution_count": null,
      "outputs": []
    },
    {
      "cell_type": "code",
      "source": [
        "cvr[\"CVR(%)\"].plot(kind=\"bar\", figsize=(12, 6))\n",
        "\n",
        "plt.xticks(rotation=30, horizontalalignment=\"center\")\n",
        "plt.ylim(min(cvr[\"CVR(%)\"]) - 5, max(cvr[\"CVR(%)\"])+5)\n",
        "plt.yticks(np.arange(min(cvr[\"CVR(%)\"] - 5), max(cvr[\"CVR(%)\"]) + 5, 1))\n",
        "plt.xlabel(\"Product Category\")\n",
        "plt.ylabel(\"CVR(%)\")\n",
        "plt.title(\"Product Category vs CVR\")\n",
        "\n",
        "plt.show()"
      ],
      "metadata": {
        "id": "rGXYE92BRSre"
      },
      "execution_count": null,
      "outputs": []
    },
    {
      "cell_type": "code",
      "source": [
        "cvr_subcat.index"
      ],
      "metadata": {
        "colab": {
          "base_uri": "https://localhost:8080/"
        },
        "id": "NimJe0GB6lbx",
        "outputId": "35a4c425-c239-46cf-e037-9d86502e39d1"
      },
      "execution_count": 32,
      "outputs": [
        {
          "output_type": "execute_result",
          "data": {
            "text/plain": [
              "MultiIndex([(            'Bags',                'Mens'),\n",
              "            (            'Bags',               'Women'),\n",
              "            (           'Books',            'Academic'),\n",
              "            (           'Books',            'Children'),\n",
              "            (           'Books',              'Comics'),\n",
              "            (           'Books',                 'DIY'),\n",
              "            (           'Books',             'Fiction'),\n",
              "            (           'Books',         'Non-Fiction'),\n",
              "            (        'Clothing',                'Kids'),\n",
              "            (        'Clothing',                'Mens'),\n",
              "            (        'Clothing',               'Women'),\n",
              "            (     'Electronics',     'Audio and video'),\n",
              "            (     'Electronics',             'Cameras'),\n",
              "            (     'Electronics',           'Computers'),\n",
              "            (     'Electronics',             'Mobiles'),\n",
              "            (     'Electronics', 'Personal Appliances'),\n",
              "            (        'Footwear',                'Kids'),\n",
              "            (        'Footwear',                'Mens'),\n",
              "            (        'Footwear',               'Women'),\n",
              "            ('Home and kitchen',                'Bath'),\n",
              "            ('Home and kitchen',          'Furnishing'),\n",
              "            ('Home and kitchen',             'Kitchen'),\n",
              "            ('Home and kitchen',               'Tools')],\n",
              "           names=['prod_cat', 'prod_subcat'])"
            ]
          },
          "metadata": {},
          "execution_count": 32
        }
      ]
    },
    {
      "cell_type": "code",
      "source": [
        "cvr_subcat[\"CVR(%)\"].plot(kind=\"bar\", figsize=(30, 10))\n",
        "\n",
        "plt.xticks(rotation=50)\n",
        "plt.ylim(min(cvr_subcat[\"CVR(%)\"]) - 5, max(cvr_subcat[\"CVR(%)\"])+5)\n",
        "plt.yticks(np.arange(min(cvr_subcat[\"CVR(%)\"] - 5), max(cvr_subcat[\"CVR(%)\"]) + 5, 1))\n",
        "plt.xlabel(\"Product Sub Category\")\n",
        "plt.ylabel(\"CVR(%)\")\n",
        "plt.title(\"Product Sub Category vs CVR\")\n",
        "\n",
        "plt.show()"
      ],
      "metadata": {
        "id": "2TzsRqeNbMA1"
      },
      "execution_count": null,
      "outputs": []
    },
    {
      "cell_type": "code",
      "source": [
        "min_cvr = min(cvr_subcat[\"CVR(%)\"])\n",
        "max_cvr = max(cvr_subcat[\"CVR(%)\"])\n",
        "avg_cvr = cvr[\"CVR(%)\"][-1]\n",
        "\n",
        "print(\"최대: \", max_cvr)\n",
        "print(\"최소: \", min_cvr)\n",
        "print(\"평균: \", avg_cvr)\n",
        "print(\"최대 - 최소: \", round(max_cvr - min_cvr,2))\n",
        "print(\"최대 - 평균: \", round(max_cvr - avg_cvr,2))\n",
        "print(\"최소 - 평균: \", round(min_cvr - avg_cvr,2))"
      ],
      "metadata": {
        "colab": {
          "base_uri": "https://localhost:8080/"
        },
        "id": "OSeJUeVxZxPL",
        "outputId": "c2cc47a0-4f45-432d-edfb-8de9642d3cc7"
      },
      "execution_count": 34,
      "outputs": [
        {
          "output_type": "stream",
          "name": "stdout",
          "text": [
            "최대:  85.0\n",
            "최소:  79.4\n",
            "평균:  82.1\n",
            "최대 - 최소:  5.6\n",
            "최대 - 평균:  2.9\n",
            "최소 - 평균:  -2.7\n"
          ]
        }
      ]
    },
    {
      "cell_type": "markdown",
      "source": [
        "**결과 해석**\n",
        "> * 상품 전환율이 높은 대 카테고리는 \"Electronics\"이며 서브 카테고리는 \"Audio and video\"이다\n",
        "    * 이는 고관여 상품으로 분류되는 Electronics 카테고리가 상품 전환율이 크다라는 가설을 뒷받침 할 수 있는 근거이다.\n",
        "    * 하지만 상품 전환율이 가장 높은 카테고리와 낮은 카테고리의 차이가 **5.6%**로 그 차이가 작고, 평균과의 편차도 작은 편이다.\n",
        "* 그러므로 카테고리간의 상품 전환율 차이가 유의미하다고 보기 힘들다.\n",
        "\n",
        "**새로운 질문**\n",
        "> 1. 상품 전환율이 높았던 \"Electronics\" 카테고리가 다른 카테고리 대비 평균 판매가가 높은가 (고관여 상품인가)?\n",
        "2. 평균 판매가와 상품 전환율 간 관계가 존재하는가?\n",
        "    * 가격이 높을수록 상품 전환율이 높아지는지?\n",
        "\n",
        "\n",
        "\n",
        "\n",
        "\n",
        "\n",
        "\n",
        "\n"
      ],
      "metadata": {
        "id": "zPL-IbtzSNjX"
      }
    },
    {
      "cell_type": "code",
      "source": [
        "# CVR과 Rate의 랭크 구하기\n",
        "cvr_new = pd.pivot_table(new_data,\n",
        "               index=['prod_cat', 'prod_subcat'],\n",
        "               columns=['confirmed'],\n",
        "               values=[\"transaction_id\", 'Rate'],\n",
        "               aggfunc={'transaction_id':'count',\n",
        "                        'Rate': np.mean})\n",
        "\n",
        "\n",
        "# CVR 구하기\n",
        "cvr_new[\"CVR(%)\"] = ((cvr_new[('transaction_id', 'confirm')] / (cvr_new[('transaction_id', 'cancel')] + cvr_new[('transaction_id', 'confirm')])) * 100).round(1)\n",
        "\n",
        "# CVR 순위\n",
        "cvr_new[\"Rank CVR\"] = cvr_new['CVR(%)'].rank(method='first', ascending=False)\n",
        "\n",
        "# 평균 판매가 순위\n",
        "cvr_new[\"Rank Rate\"] = cvr_new[('Rate', 'confirm')].rank(method='first', ascending=False)\n",
        "cvr_new.sort_values(['Rank CVR'], ascending=True, inplace=True)"
      ],
      "metadata": {
        "id": "Dlgc4zGVZ45N"
      },
      "execution_count": null,
      "outputs": []
    },
    {
      "cell_type": "code",
      "source": [
        "fig, ax1 = plt.subplots(figsize=(30,10))\n",
        "\n",
        "x = cvr_new.index\n",
        "x_cats = [f'{cat1}\\n{cat2}' for cat1, cat2 in x]\n",
        "\n",
        "y1 = cvr_new[\"CVR(%)\"]\n",
        "y2 = cvr_new[('Rate', 'confirm')]\n",
        "\n",
        "x_pos = np.arange(len(x))\n",
        "ax1.bar(x_pos, y1)\n",
        "ax1.set_ylabel('Bar Chart of CVR(%)')\n",
        "ax1.set_xticks(x_pos)\n",
        "ax1.set_xticklabels(x_cats, rotation=40)\n",
        "ax1.set_ylim(y1.min() - 5, y1.max() + 5)\n",
        "\n",
        "ax2 = ax1.twinx()\n",
        "ax2.plot(x_pos, y2, color='red', marker='o')\n",
        "ax2.set_ylabel('Line Graph of AVG Rate', color='red')\n",
        "ax2.set_ylim(y2.min() - 5, y2.max() + 5)\n",
        "\n",
        "ax1.set_xlabel('Categories')\n",
        "ax2.set_title('Categories vs (CVR and Rate)')\n",
        "\n",
        "plt.show()"
      ],
      "metadata": {
        "id": "xyOR_no3eSr5"
      },
      "execution_count": null,
      "outputs": []
    },
    {
      "cell_type": "markdown",
      "source": [
        "\n",
        "**결과 해석**\n",
        "\n",
        "\n",
        "\n",
        "> 1. 고관여 상품군인 \"Electronics\"의 평균 판매가는 다른 카테고리의 평균 판매가 대비 높지 않다.\n",
        "    * Electronics (Audio and video)의 상품 전환율은 1위이지만 평균 판매가는 20위이다\n",
        "2. 평균 판매가와 상품 전환율 간 특별한 상관 관계가 보이지 않는다\n",
        "\n",
        "\n",
        "\n",
        "\n",
        "\n"
      ],
      "metadata": {
        "id": "ygLGMIaIsGGJ"
      }
    },
    {
      "cell_type": "markdown",
      "source": [
        "## 2.b 카테고리별 매출"
      ],
      "metadata": {
        "id": "ZFTB4VmTTwkL"
      }
    },
    {
      "cell_type": "markdown",
      "source": [
        "### 2.b.i CAGR (기하평균)\n",
        "\n",
        "1. 각 카테고리 매해의 매출액 성장률"
      ],
      "metadata": {
        "id": "5ugR-X7bct7j"
      }
    },
    {
      "cell_type": "code",
      "source": [
        "df_copy = new_data.copy()\n",
        "\n",
        "# 2014년도는 2월달 데이터밖에 없기 때문에 year column을 만들어주고 2014년도 데이터는 제외한다\n",
        "df_copy['year'] = df_copy['tran_date'].dt.year\n",
        "years = [2011, 2012, 2013]\n",
        "df_copy = df_copy[df_copy['tran_date'].dt.year.isin(years)]"
      ],
      "metadata": {
        "id": "mfV8YER6UDNt"
      },
      "execution_count": 37,
      "outputs": []
    },
    {
      "cell_type": "code",
      "source": [
        "# 카테고리별 연매출\n",
        "cagr_table = pd.pivot_table(df_copy, \n",
        "                            index=['year'],\n",
        "                            columns=[\"prod_cat\"],\n",
        "                            values=['total_amt'],\n",
        "                            aggfunc='sum'\n",
        "                            )"
      ],
      "metadata": {
        "id": "3xLUVKF6qEQO"
      },
      "execution_count": null,
      "outputs": []
    },
    {
      "cell_type": "code",
      "source": [
        "# 카테고리 별 CAGR\n",
        "cagr = round(((cagr_table.iloc[-1] / cagr_table.iloc[0])**(1/len(cagr_table)) - 1) * 100, 2)"
      ],
      "metadata": {
        "id": "-QO40xFUXvtI"
      },
      "execution_count": null,
      "outputs": []
    },
    {
      "cell_type": "markdown",
      "source": [
        "\n",
        "**결과해석**\n",
        "> 2011년부터 2013년까지의 카테고리별 CAGR를 구했을 때 **Clothing** 카테고리가 **5.78%**로  매출액 성장률이 제일 높았으며 **Book** 카테고리가 **-0.09%**로 성장률이 제일 저조했다.\n",
        "\n"
      ],
      "metadata": {
        "id": "exnQ4xu6brxZ"
      }
    },
    {
      "cell_type": "markdown",
      "source": [
        "### 2.b.ii 분산과 표준편차\n",
        "\n",
        "**질문**\n",
        "\n",
        "\n",
        "> 각 카테고리별 월평균 매출 추이에 대한 해석\n",
        "1. 가장 월평균 매출익이 높은 카테고리는?\n",
        "2. 카테고리별 월평균 매출액의 분산과 표준 편차는?\n",
        "3. RSD(변동계수)를 이용한 해석?\n",
        "\n"
      ],
      "metadata": {
        "id": "z0h2XMFrc46q"
      }
    },
    {
      "cell_type": "code",
      "source": [
        "# month column 추가\n",
        "df_copy['month'] = df_copy['tran_date'].dt.month"
      ],
      "metadata": {
        "id": "q-9f1QRMcCC-"
      },
      "execution_count": 40,
      "outputs": []
    },
    {
      "cell_type": "code",
      "source": [
        "# 카테고리별 년,월 매출\n",
        "cagr_table_by_month = pd.pivot_table(df_copy, \n",
        "                            index=['year', 'month'],\n",
        "                            columns=[\"prod_cat\"],\n",
        "                            values=['total_amt'],\n",
        "                            aggfunc='sum'\n",
        "                            )\n"
      ],
      "metadata": {
        "id": "s2C4eRNvjklm"
      },
      "execution_count": null,
      "outputs": []
    },
    {
      "cell_type": "code",
      "source": [
        "mean_ = round(cagr_table_by_month.mean(), 3)\n",
        "var_ = cagr_table_by_month.var()\n",
        "std_ = cagr_table_by_month.std()\n",
        "rsd_ = round(std_/mean_, 3)"
      ],
      "metadata": {
        "id": "X0SdvGxEjwkC"
      },
      "execution_count": 42,
      "outputs": []
    },
    {
      "cell_type": "code",
      "source": [
        "stats_df = pd.concat([mean_, var_, std_, rsd_], axis=1)\n",
        "stats_df.columns = ['Mean', 'Variance', 'Std. Deviation', 'RSD']\n"
      ],
      "metadata": {
        "id": "QuHvOX25mQFU"
      },
      "execution_count": null,
      "outputs": []
    },
    {
      "cell_type": "markdown",
      "source": [
        "**결과 해석**\n",
        "\n",
        "1. 월매출 평균이 제일 높은 카테고리는 **Books** 카테고리이며, 제일 낮은 카테고리는 **Bags** 카테고리이다.\n",
        "2. **표준 편차**로만 보았을 때 Book 카테고리의 매출액 변동성이 가장 큰 것처럼 보이지만 **RSD**를 이용하였을 때는 Book 카테고리는 매출액 변동성이 낮으면서 월평균 매출액이 가장 큰 카테고리다.\n",
        "3. **따라서 Books 카테고리가 매출에 기여도가 크면서 안정적으로 매출이 발생하는 주력 카테고리라고 해석된다.**\n",
        "\n"
      ],
      "metadata": {
        "id": "criEYbjvnYqt"
      }
    },
    {
      "cell_type": "markdown",
      "source": [
        "## 2.c 고객 추천 (Not available ATM)"
      ],
      "metadata": {
        "id": "jS3gVVMiM500"
      }
    },
    {
      "cell_type": "markdown",
      "source": [],
      "metadata": {
        "id": "K3toubiMPRPe"
      }
    },
    {
      "cell_type": "code",
      "source": [
        "df_copy2 = new_data.copy()\n",
        "\n",
        "# prod_cat과 prod_subcat을 합친 컬럼 만들기\n",
        "df_copy2['category'] = df_copy2['prod_cat'] + '-' + df_copy2['prod_subcat']\n",
        "\n",
        "# cust_id명을 customer 테이블의 customer_id와 똑같이 만들기\n",
        "df_copy2.rename(columns={'cust_id':'customer_Id'}, inplace=True)"
      ],
      "metadata": {
        "id": "uutOkBdfxKkz"
      },
      "execution_count": 44,
      "outputs": []
    },
    {
      "cell_type": "code",
      "source": [
        "# transaction 테이블과 customer 테이블 조인 진행\n",
        "# customer 테이블에서 gender와 age 컬럼만 가져오기\n",
        "\n",
        "df2 = pd.merge(\n",
        "    left = df_copy2,\n",
        "    right = customer[['customer_Id', 'Gender', 'age']],\n",
        "    on = [\"customer_Id\"],\n",
        "    how = \"left\"\n",
        ")"
      ],
      "metadata": {
        "id": "VFa2iVqNw73m"
      },
      "execution_count": null,
      "outputs": []
    },
    {
      "cell_type": "code",
      "source": [
        "corr_pivot_table = pd.pivot_table(df2, \n",
        "                            index=['customer_Id'],\n",
        "                            columns=[\"category\"],\n",
        "                            values=['transaction_id'],\n",
        "                            aggfunc='count'\n",
        "                            ).fillna(0)"
      ],
      "metadata": {
        "id": "Wn1K423fqMYE"
      },
      "execution_count": 46,
      "outputs": []
    },
    {
      "cell_type": "markdown",
      "source": [
        "## 2.d Z 차트"
      ],
      "metadata": {
        "id": "5cpLT0vlBL_V"
      }
    },
    {
      "cell_type": "markdown",
      "source": [
        "\n",
        "**질문**\n",
        "> Z 차트를 이용한 2013년 매출추이 시계열 분석 및 해석\n",
        "> 1. 월별 매출\n",
        "> 2. 누계 매출\n",
        "> 3. 이동 합계\n",
        "\n"
      ],
      "metadata": {
        "id": "pNscl6FhDk7R"
      }
    },
    {
      "cell_type": "code",
      "source": [
        "# 카테고리별 월 매출\n",
        "sales_by_month = pd.pivot_table(df_copy, \n",
        "                            index=['year', 'month'],\n",
        "                            columns=[\"prod_cat\"],\n",
        "                            values=['total_amt'],\n",
        "                            aggfunc='sum'\n",
        "                            )"
      ],
      "metadata": {
        "id": "MFmbJU7JAGyx"
      },
      "execution_count": 47,
      "outputs": []
    },
    {
      "cell_type": "code",
      "source": [
        "# 2013년 월별 매출\n",
        "sales_2013 = sales_by_month.loc[2013]\n",
        "\n",
        "# 2013년 누계 매출\n",
        "cum_sales = sales_2013.cumsum()\n",
        "\n",
        "# 2013년 이동 합계\n",
        "moving_sum = sales_by_month.rolling(window=12).sum().loc[2013]"
      ],
      "metadata": {
        "id": "ybh_GzuCaCbv"
      },
      "execution_count": 48,
      "outputs": []
    },
    {
      "cell_type": "code",
      "source": [
        "# 카테고리별 월별 매출, 누계 매출, 이동 합계를 한 테이블에 합치기\n",
        "combined_df = pd.DataFrame()\n",
        "col_names = []\n",
        "for col in moving_sum.columns:\n",
        "    new_cols = pd.MultiIndex.from_product([[col[1]], ['월별 매출','누계 매출', '이동 합계']])\n",
        "    new_df = pd.concat([sales_2013[col], cum_sales[col], moving_sum[col]], axis=1)\n",
        "    new_df.columns = pd.MultiIndex.from_tuples(new_cols)\n",
        "    combined_df = pd.concat([combined_df, new_df], axis=1)\n"
      ],
      "metadata": {
        "id": "rwBzXFqApdjR"
      },
      "execution_count": null,
      "outputs": []
    },
    {
      "cell_type": "code",
      "source": [
        "fig, axes = plt.subplots(nrows=2, ncols=3, figsize=(25, 10))\n",
        "plt.subplots_adjust(wspace=0.2, hspace=0.5)\n",
        "\n",
        "axes[0, 0].plot(combined_df.index, combined_df[('Bags', '월별 매출')], label='월별 매출')\n",
        "axes[0, 0].plot(combined_df.index, combined_df[('Bags', '누계 매출')], label='누계 매출')\n",
        "axes[0, 0].plot(combined_df.index, combined_df[('Bags', '이동 합계')], label='이동 합계')\n",
        "axes[0, 0].set_title(\"Bags\")\n",
        "axes[0, 0].set_xticks(range(1,13,1))\n",
        "axes[0, 0].set_xlabel('2013년')\n",
        "axes[0, 0].legend(loc='upper center', bbox_to_anchor=(0.5, -0.15), ncol=3)\n",
        "\n",
        "axes[0, 1].plot(combined_df.index, combined_df[('Books', '월별 매출')], label='월별 매출')\n",
        "axes[0, 1].plot(combined_df.index, combined_df[('Books', '누계 매출')], label='누계 매출')\n",
        "axes[0, 1].plot(combined_df.index, combined_df[('Books', '이동 합계')], label='이동 합계')\n",
        "axes[0, 1].set_title(\"Books\")\n",
        "axes[0, 1].set_xticks(range(1,13,1))\n",
        "axes[0, 1].set_xlabel('2013년')\n",
        "axes[0, 1].legend(loc='upper center', bbox_to_anchor=(0.5, -0.15), ncol=3)\n",
        "\n",
        "axes[0, 2].plot(combined_df.index, combined_df[('Clothing', '월별 매출')], label='월별 매출')\n",
        "axes[0, 2].plot(combined_df.index, combined_df[('Clothing', '누계 매출')], label='누계 매출')\n",
        "axes[0, 2].plot(combined_df.index, combined_df[('Clothing', '이동 합계')], label='이동 합계')\n",
        "axes[0, 2].set_title(\"Clothing\")\n",
        "axes[0, 2].set_xticks(range(1,13,1))\n",
        "axes[0, 2].set_xlabel('2013년')\n",
        "axes[0, 2].legend(loc='upper center', bbox_to_anchor=(0.5, -0.15), ncol=3)\n",
        "\n",
        "axes[1, 0].plot(combined_df.index, combined_df[('Electronics', '월별 매출')], label='월별 매출')\n",
        "axes[1, 0].plot(combined_df.index, combined_df[('Electronics', '누계 매출')], label='누계 매출')\n",
        "axes[1, 0].plot(combined_df.index, combined_df[('Electronics', '이동 합계')], label='이동 합계')\n",
        "axes[1, 0].set_title(\"Electronics\")\n",
        "axes[1, 0].set_xticks(range(1,13,1))\n",
        "axes[1, 0].set_xlabel('2013년')\n",
        "axes[1, 0].legend(loc='upper center', bbox_to_anchor=(0.5, -0.15), ncol=3)\n",
        "\n",
        "axes[1, 1].plot(combined_df.index, combined_df[('Footwear', '월별 매출')], label='월별 매출')\n",
        "axes[1, 1].plot(combined_df.index, combined_df[('Footwear', '누계 매출')], label='누계 매출')\n",
        "axes[1, 1].plot(combined_df.index, combined_df[('Footwear', '이동 합계')], label='이동 합계')\n",
        "axes[1, 1].set_title(\"Footwear\")\n",
        "axes[1, 1].set_xticks(range(1,13,1))\n",
        "axes[1, 1].set_xlabel('2013년')\n",
        "axes[1, 1].legend(loc='upper center', bbox_to_anchor=(0.5, -0.15), ncol=3)\n",
        "\n",
        "axes[1, 2].plot(combined_df.index, combined_df[('Home and kitchen', '월별 매출')], label='월별 매출')\n",
        "axes[1, 2].plot(combined_df.index, combined_df[('Home and kitchen', '누계 매출')], label='누계 매출')\n",
        "axes[1, 2].plot(combined_df.index, combined_df[('Home and kitchen', '이동 합계')], label='이동 합계')\n",
        "axes[1, 2].set_title(\"Home and kitchen\")\n",
        "axes[1, 2].set_xticks(range(1,13,1))\n",
        "axes[1, 2].set_xlabel('2013년')\n",
        "axes[1, 2].legend(loc='upper center', bbox_to_anchor=(0.5, -0.15), ncol=3)\n"
      ],
      "metadata": {
        "id": "zhHT817o5IHr"
      },
      "execution_count": null,
      "outputs": []
    },
    {
      "cell_type": "markdown",
      "source": [
        "**결과 해석**\n",
        "\n",
        "> Bags와 Home and kitchen 카테고리는 점차적으로 매출이 **상승**<br>\n",
        "> Clothing과 Electronics는 월별로는 차이가 있지만 전반적으로 매출이 **보합세**.<br>\n",
        "> Books와 Footwear는 연초보다 연말에 매출이 **하락**."
      ],
      "metadata": {
        "id": "AGq2qL7-Q45R"
      }
    },
    {
      "cell_type": "markdown",
      "source": [
        "## 2.e ABC 매출 등급 분석\n",
        "\n",
        ">2013년 매출 등급 (누적 구성비 기준)\n",
        ">>A등급 : 상위 50%<br>\n",
        ">>B등급 : 상위 80%<br>\n",
        ">>C등급 : 상위 100%"
      ],
      "metadata": {
        "id": "6MrZuGOyoHFC"
      }
    },
    {
      "cell_type": "code",
      "source": [
        "# 카테고리별 월 매출\n",
        "df_2013 = df_copy[df_copy[\"year\"] == 2013]\n",
        "\n",
        "abc_table = pd.pivot_table(df_2013, \n",
        "                            index=['Store_type', 'prod_cat'],\n",
        "                            values=['total_amt'],\n",
        "                            aggfunc='sum'\n",
        "                            )"
      ],
      "metadata": {
        "id": "l9Go1tXvOO1O"
      },
      "execution_count": 51,
      "outputs": []
    },
    {
      "cell_type": "markdown",
      "source": [
        "**결과 해석**\n",
        "\n",
        "\n",
        "> 1. 총 매출의 50%를 차지하는 A등급 카테고리는 총 7개로 그 중 5개는 온라인 **e-shop**에서 발생\n",
        "> 2. 그 중 e-shop에서 생긴 **Books** 카테고리는 구성비가 10.7%를 차지하며 제일 매출 기여도가 높다\n",
        "* 판매 촉진을 위한 광고비를 지출해야 한다면, e-shop에서의 광고, 특히 주력 카테고리인 Books와 Electronics을 중심으로 예산을 편성하여 운영\n",
        "* 균형있는 매출을 위해 Bags와 Footwear 카테고리에 대해 매출 활성화 전략 필요\n",
        "\n"
      ],
      "metadata": {
        "id": "M0ANoBxX2QJc"
      }
    },
    {
      "cell_type": "markdown",
      "source": [
        "## 2.f 구매주기 경과 고객 추출 (CRM)\n",
        "\n",
        "1. 각 고객의 구매주기 계산\n",
        "2. 구매주기가 경과일이 앞뒤 30일인 고객 추출 (현재 날짜가 2014.03.01이라고 가정)"
      ],
      "metadata": {
        "id": "PXCAqx5k1KRV"
      }
    },
    {
      "cell_type": "code",
      "source": [
        "# 현재 날짜\n",
        "today = '2014-03-01'"
      ],
      "metadata": {
        "id": "V0SVFuL7Y0Pa"
      },
      "execution_count": 52,
      "outputs": []
    },
    {
      "cell_type": "code",
      "source": [
        "# 구매확정 거래건 대상 분석\n",
        "df_copy3 = df_copy[df_copy['confirmed'] == 'confirm'].drop('chk', axis=1).sort_values(['cust_id', 'tran_date'])\n",
        "\n",
        "# cust_id가 달라지면 1을 반환 (chk가 1인 행은 해당 고객의 최종 구매일)\n",
        "df_copy3['chk'] = np.where(df_copy3['cust_id'] != df_copy3['cust_id'].shift(-1), 1, 0)\n",
        "\n",
        "# cust_id와 tran_date를 하나로 묶어 구분할 수 있는 고유 key값 생성하고 중복이 아닌 구매일수 계산\n",
        "key = map(lambda id, date : str(id) + '-' + str(date.strftime(\"%Y-%m-%d\")), df_copy3[\"cust_id\"], df_copy3[\"tran_date\"])\n",
        "df_copy3[\"key\"] = list(key)\n",
        "df_copy3['구매일수'] = np.where(df_copy3['key'] != df_copy3['key'].shift(-1), 1, 0)\n",
        "\n",
        "# 누적 구매일수\n",
        "df_copy3['누적 구매일수'] = df_copy3.groupby('cust_id')['구매일수'].cumcount() + 1\n",
        "\n",
        "# diff로 각 구매일수간의 가격을 구한 후 NaT를 0초로 처리한 후 모든 수 int 타입으로 변경\n",
        "df_copy3['구매일수 간격'] = df_copy3.groupby('cust_id')['tran_date'].diff().fillna(pd.Timedelta(seconds=0)).dt.days.astype(int)\n",
        "\n",
        "# 최종 구매일자 - 최초 구매일자 계산\n",
        "df_copy3['최종-최초'] = df_copy3.groupby('cust_id')['구매일수 간격'].cumsum()"
      ],
      "metadata": {
        "id": "wMdvOXWO66Vs"
      },
      "execution_count": 53,
      "outputs": []
    },
    {
      "cell_type": "code",
      "source": [
        "# 고객의 마지막 거래건 추출 & 누적 구매일수가 1인 행은 최종 간격이 0이기 때문에 무시\n",
        "# 누적 구매일수와 구매 최종 간격 값 가져오기\n",
        "\n",
        "cycle_df = pd.pivot_table(df_copy3[(df_copy3['chk'] == 1) & (df_copy3['누적 구매일수'] != 1)],\n",
        "               index=['cust_id', 'tran_date'],\n",
        "               values=['누적 구매일수', '최종-최초'],\n",
        "               aggfunc=['sum']\n",
        "               )\n",
        "\n",
        "# 구매 간격 / (누적 구매일수 - 1)를 구해서 구매주기 구하기\n",
        "cycle_df['구매주기'] = cycle_df[('sum','최종-최초')] / (cycle_df[('sum','누적 구매일수')] - 1)\n",
        "\n",
        "# 최종 구매일자에서 구매주기를 더해 다음 구매 예상일 구하기\n",
        "cycle_df['구매 예상일'] = cycle_df.index.get_level_values('tran_date') + pd.to_timedelta(cycle_df['구매주기'], unit='d')\n",
        "cycle_df['구매 예상일'] = cycle_df['구매 예상일'].apply(lambda x: x.strftime('%Y-%m-%d'))\n",
        "\n",
        "# 현재 날짜가 2014.03.01이라는 가정하에 날짜 경과일수 구하기\n",
        "# 계산하기 쉽게 int로 변환\n",
        "# 현재 날짜보다 전이면 마이너스, 지났다면 플러스로 표현\n",
        "cycle_df['경과일수'] = pd.to_datetime(today) - pd.to_datetime(cycle_df['구매 예상일'])\n",
        "cycle_df['경과일수'] = cycle_df['경과일수'].dt.days.astype(int)"
      ],
      "metadata": {
        "id": "XuYMHgqo5o7m"
      },
      "execution_count": 54,
      "outputs": []
    },
    {
      "cell_type": "code",
      "source": [
        "# 경과일수가 30일보다 크거나 작은 고객들만 추출\n",
        "cycle_df[(cycle_df['경과일수'] <= 30) & (cycle_df['경과일수'] >= -30)]"
      ],
      "metadata": {
        "id": "Jai8MpywLqob"
      },
      "execution_count": null,
      "outputs": []
    },
    {
      "cell_type": "markdown",
      "source": [
        "**결과 해석**\n",
        "1. 현재일이 2014년 03월 01일이라는 가정하에 구매 예상일 경과일수가 30일 전후인 고개들만 추출한 결과 총 **486**명이 추출됨\n",
        "2. 해당 고객들에게 푸쉬 알림을 보내 구매 전환을 **유도**"
      ],
      "metadata": {
        "id": "dxVuHv1PZyIi"
      }
    },
    {
      "cell_type": "markdown",
      "source": [
        "\n",
        "---\n",
        "\n",
        "# **3. 퍼널 분석**\n",
        "\n",
        "> 전체 서비스에 가입한 고객중 2013년 하반기 (7월~12월) 기간 동안 구매한 고객과 상품을 취소하지 않고 구매를 확정한 고객의 퍼널별 실적 차트"
      ],
      "metadata": {
        "id": "MHor2zbNeadV"
      }
    },
    {
      "cell_type": "markdown",
      "source": [
        "## 3.a 퍼널 데이터 전처리"
      ],
      "metadata": {
        "id": "K6yxUQ5OZSn2"
      }
    },
    {
      "cell_type": "code",
      "source": [
        "df_copy4 = new_data.copy()\n",
        "\n",
        "# 2013년 하반기 (7월~12월) 구매고객\n",
        "df_copy4 = df_copy4[(df_copy4[\"tran_date\"] >= '2013-07-01') & (df_copy4[\"tran_date\"] < '2014-01-01')]"
      ],
      "metadata": {
        "id": "wmdhcEUPeBh6"
      },
      "execution_count": 56,
      "outputs": []
    },
    {
      "cell_type": "code",
      "source": [
        "# 전체 고객 수\n",
        "len_customer = len(customer)\n",
        "\n",
        "# 2013 하반기 구매 고객 수\n",
        "first_funnel = len(pd.pivot_table(df_copy4,\n",
        "                                index=[\"cust_id\"],\n",
        "                                values=[\"transaction_id\"],\n",
        "                                aggfunc=[\"count\"]))\n",
        "\n",
        "# 2013 하반기 구매 최종 확정 고객 수\n",
        "second_funnel = len(pd.pivot_table(df_copy4[df_copy4['confirmed'] == 'confirm'],\n",
        "                                index=[\"cust_id\"],\n",
        "                                values=[\"transaction_id\"],\n",
        "                                aggfunc=[\"count\"]))\n",
        "\n",
        "# 첫번째 퍼널 전환율\n",
        "first_funnel_ratio = round((first_funnel / len_customer)*100, 1)\n",
        "\n",
        "# 두번째 퍼널 전환율\n",
        "second_funnel_ratio = round((second_funnel / first_funnel)*100, 1)"
      ],
      "metadata": {
        "id": "eaDzqWpt-LOu"
      },
      "execution_count": 57,
      "outputs": []
    },
    {
      "cell_type": "code",
      "source": [
        "data = [[len_customer, 0], [first_funnel, first_funnel_ratio], [second_funnel, second_funnel_ratio]]\n",
        "index = ['전체 가입자', '2013 하반기 구매고객수', '2013 하반기 구매확정 고객수']\n",
        "df_funnel = pd.DataFrame(data, index=index, columns=['고객수', '전환율(%)'])\n",
        "\n",
        "# 비대상 고객의 수 계산\n",
        "df_funnel['비대상'] = df_funnel['고객수'].shift(1) - df_funnel['고객수']\n",
        "df_funnel['비대상'] = df_funnel['비대상'].fillna(0)\n",
        "df_funnel"
      ],
      "metadata": {
        "id": "voGlRFEmC-29"
      },
      "execution_count": null,
      "outputs": []
    },
    {
      "cell_type": "markdown",
      "source": [
        "## 3.b 퍼널 분석 시각화"
      ],
      "metadata": {
        "id": "U2jgotjAZZOK"
      }
    },
    {
      "cell_type": "code",
      "source": [
        "fig, ax = plt.subplots(figsize=(15, 6))\n",
        "\n",
        "df_funnel[[\"고객수\", \"비대상\"]].plot(kind='bar', stacked=True, color=['#ADD8E6', '#C0C0C0'], ax=ax)\n",
        "\n",
        "ax.set_xticklabels(df_funnel.index, rotation=0)\n",
        "ax.set_title(\"2013년 하반기 구매 확정 퍼널별 실적 현황\")\n",
        "ax.set_yticks([])\n",
        "\n",
        "for i, val in enumerate(df_funnel['고객수']):\n",
        "    ax.annotate(str(val), xy=(i, val/2), ha='center', fontsize=12)\n",
        "\n",
        "plt.text(2.25, 4300,\n",
        "         f'전환율\\n1차: {df_funnel[\"전환율(%)\"][1]}%\\n2차: {df_funnel[\"전환율(%)\"][2]}%',\n",
        "         ha='left', va='bottom', fontsize=12,\n",
        "         bbox=dict(facecolor='red', alpha=0.5))\n",
        "\n",
        "plt.show()"
      ],
      "metadata": {
        "colab": {
          "base_uri": "https://localhost:8080/",
          "height": 544
        },
        "id": "aUyO-g3fFtGR",
        "outputId": "87466a0d-27b3-444f-ca96-77022321e84b",
        "collapsed": true
      },
      "execution_count": 59,
      "outputs": [
        {
          "output_type": "display_data",
          "data": {
            "text/plain": [
              "<Figure size 1500x600 with 1 Axes>"
            ],
            "image/png": "[encoded data removed]"
          },
          "metadata": {}
        }
      ]
    },
    {
      "cell_type": "markdown",
      "source": [
        "**결과 해석**<br>\n",
        "> 2013년 하반기에는 **첫번째 퍼널**에서 전체 가입자 중 **45.9%**에 해당하는 2591명이 구매로 전환되었고 **두번째 퍼널**에서 그중 **92.4%**에 해당하는 2394명이 구매확정으로 전환되었다"
      ],
      "metadata": {
        "id": "HAfcskjrM6js"
      }
    },
    {
      "cell_type": "markdown",
      "source": [
        "\n",
        "\n",
        "---\n",
        "\n",
        "\n",
        "# **4. 코호트 분석**\n",
        "\n",
        "* 2012년 각 고객이 첫구매한 월을 기준으로 코호트 생성<br>\n",
        "* 첫구매 이후 경과월수별 평균 구매 유지율 코호트 분석 "
      ],
      "metadata": {
        "id": "_m3kt7FDg1VL"
      }
    },
    {
      "cell_type": "markdown",
      "source": [
        "## 4.a 코호트 데이터 전처리"
      ],
      "metadata": {
        "id": "a1-TFTsxZkk2"
      }
    },
    {
      "cell_type": "code",
      "source": [
        "import seaborn as sns\n",
        "\n",
        "# 2012년 고객 구매 데이터 & 구매확정 데이터 추출\n",
        "cohort_df = new_data[(new_data['tran_date'] >= '2012-01-01') & (new_data['tran_date'] < '2013-01-01') & (new_data['confirmed'] == 'confirm')]\n",
        "\n",
        "# tran_date에서 월 추출\n",
        "cohort_df['month'] = cohort_df['tran_date'].dt.month\n",
        "\n",
        "# 첫 구매일의 월별 코호트 생성\n",
        "cohort_df['cohort'] = cohort_df.groupby('cust_id')['month'].transform('min')\n",
        "\n",
        "# 첫 구매일 월부터 경과 월수 계산\n",
        "cohort_df['months_since_first_purchase'] = cohort_df['month'] - cohort_df['cohort']\n",
        "\n",
        "# 각 코호트 경과 월수에 해당하는 고객 수 계산\n",
        "cohort_data = cohort_df.groupby(['cohort', 'months_since_first_purchase'])['cust_id'].nunique().reset_index()\n",
        "\n",
        "# 각 코호트의 고객수 계산\n",
        "cohort_sizes = cohort_df.groupby('cohort')['cust_id'].nunique()\n",
        "\n",
        "# 경과월수별 구매 유지율 계산\n",
        "cohort_data = cohort_data.merge(cohort_sizes, on='cohort')\n",
        "cohort_data['retention'] = cohort_data['cust_id_x'] / cohort_data['cust_id_y']"
      ],
      "metadata": {
        "id": "JEl5uvmrDgEq"
      },
      "execution_count": 60,
      "outputs": []
    },
    {
      "cell_type": "markdown",
      "source": [
        "## 4.b 코호트 분석 시각화"
      ],
      "metadata": {
        "id": "ic171GxvZoeM"
      }
    },
    {
      "cell_type": "markdown",
      "source": [
        "### 4.b.i 전체 구매 유지율 히트맵"
      ],
      "metadata": {
        "id": "J3K4z6o-q4lo"
      }
    },
    {
      "cell_type": "code",
      "source": [
        "# 코호트와 경과 월수별 구매 유지율 시각화\n",
        "cohort_heatmap = cohort_data.pivot_table(index='cohort', columns='months_since_first_purchase', values='retention')\n",
        "\n",
        "plt.figure(figsize=(16, 10))\n",
        "plt.title('코호트 분석 - 구매 유지율')\n",
        "sns.heatmap(cohort_heatmap, cmap='PuBuGn', annot=True, fmt='.1%')\n",
        "plt.show()"
      ],
      "metadata": {
        "id": "YgI0SuCPZKt1"
      },
      "execution_count": null,
      "outputs": []
    },
    {
      "cell_type": "markdown",
      "source": [
        "### 4.b.ii M+1 구매 유지율"
      ],
      "metadata": {
        "id": "pR989aUGqxam"
      }
    },
    {
      "cell_type": "code",
      "source": [
        "# 각 코호트의 M+1 구매 유지율 현황 계산\n",
        "M1_cohort = cohort_heatmap[1][:-1].apply(lambda x: round(x*100, 1))\n",
        "\n",
        "plt.figure(figsize=(16, 10))\n",
        "M1_cohort.plot(kind='line', color='red', marker='o', label='누적 구성비')\n",
        "\n",
        "for i, val in enumerate(M1_cohort.values):\n",
        "    plt.text(M1_cohort.index[i], val+0.5, str(val)+'%', ha='center', va='bottom')\n",
        "\n",
        "plt.title('2012년 코호트 분석 - 각 코호트의 M+1 구매 유지율 현황')\n",
        "plt.ylabel('구매 유지율(%)')\n",
        "plt.xlabel('cohort')\n",
        "\n",
        "plt.ylim(0, 16)\n",
        "plt.xticks(np.arange(1,12,1))\n",
        "\n",
        "plt.show()"
      ],
      "metadata": {
        "id": "ux0Wm2iVZLBY"
      },
      "execution_count": null,
      "outputs": []
    },
    {
      "cell_type": "markdown",
      "source": [
        "**결과해석**\n",
        "\n",
        "1. 2012년 1~5월까지 M+1 구매 유지율이 약 9% 내외\n",
        "2. 6월은 6.7%로 연중 최저치 기록\n",
        "3. 7~10월까지 구매 유지율이 10%를 상회하며 다시 회복\n",
        "4. 11월 코호트의 경우 연중 최고치 기록\n",
        "\n",
        "> 해당 코호트 분석결과 2012년 하반기 재구매 증가로 구매 유지율이 크게 개선되었음을 보여준다.<br>이 당시 서비스의 어떤 부분이 이 결과를 이끌어냈는지 분석 필요"
      ],
      "metadata": {
        "id": "SHfiZ9LhpNew"
      }
    },
    {
      "cell_type": "markdown",
      "source": [
        "---\n",
        "\n",
        "# **5. RFM 분석**"
      ],
      "metadata": {
        "id": "vCsAp26rrOG3"
      }
    },
    {
      "cell_type": "markdown",
      "source": [
        "## 5.a RFM 데이터 전처리"
      ],
      "metadata": {
        "id": "34xGEnJa6fqA"
      }
    },
    {
      "cell_type": "code",
      "source": [
        "# 2012년 고객 구매 데이터 & 구매확정 데이터\n",
        "rfm_df = new_data[(new_data['tran_date'] >= '2012-01-01') & (new_data['tran_date'] < '2013-01-01') & (new_data['confirmed'] == 'confirm')].sort_values(['cust_id', 'tran_date'])\n",
        "\n",
        "# 각 고객의 최신 거래 내역만 추출\n",
        "# 각 고객의 2012년도 누적 구매건수\n",
        "# 각 고객의 2012년도 누적 매출액\n",
        "rfm_df = rfm_df.groupby('cust_id').agg({'tran_date': lambda date: date.max(),\n",
        "                                    'transaction_id': lambda num: len(num),\n",
        "                                    'total_amt': lambda price: price.sum()})\n",
        "\n",
        "# rfm_df 컬럼명을 recency, frequency, monetary로 변경\n",
        "rfm_df.columns=['recency', 'frequency', 'monetary'] "
      ],
      "metadata": {
        "id": "sm75C7upqn4D"
      },
      "execution_count": 63,
      "outputs": []
    },
    {
      "cell_type": "markdown",
      "source": [
        "## 5.b 2012년 RFM 스코어 분석"
      ],
      "metadata": {
        "id": "D_aUmkI4iLDk"
      }
    },
    {
      "cell_type": "markdown",
      "source": [
        "### 5.b.i R, F, M Class 부여\n",
        "\n",
        "* Class는 수는 1등급에서 5등급으로 총 5개의 구간으로 설정\n",
        "* 고객은 recency가 가장 최근이고, frequency와 monetary가 가장 높은 고객이 1등급 고객이다"
      ],
      "metadata": {
        "id": "c7PnV7GlnkSG"
      }
    },
    {
      "cell_type": "code",
      "source": [
        "# 5개의 그룹으로 R, F, M class를 나누어준다\n",
        "rfm_df['r_quartile'] = pd.qcut(rfm_df['recency'], 5, ['5','4','3','2','1'])\n",
        "rfm_df['m_quartile'] = pd.qcut(rfm_df['monetary'], 5, ['5','4','3','2','1'])\n",
        "\n",
        "# 현 데이터의 frequency의 범위는 1~6로 그 범위가 너무 작기때문에 pd.cut() function을 쓰면 에러가 걸린다\n",
        "# 그래서 frequency는 임의로 1->5, 2->4, 3->3, 4->2, [5,6]->1으로 구분해준다\n",
        "rfm_df['f_quartile'] = rfm_df['frequency'].apply(lambda x: 5 if x == 1 else (4 if x == 2 else (3 if x == 3 else (2 if x == 4 else 1))))"
      ],
      "metadata": {
        "id": "Juwio5JdFXWs"
      },
      "execution_count": 64,
      "outputs": []
    },
    {
      "cell_type": "markdown",
      "source": [
        "### 5.b.ii 가중치 및 RFM 스코어 계산\n",
        "\n",
        "* RFM 각 요소별 **매출 기여도**에 따른 RFM의 **가중치** 계산\n",
        "* 가중치를 이용하여 RFM 스코어 계산\n",
        "    * RFM 스코어가 낮을수록 **우수 고객**"
      ],
      "metadata": {
        "id": "zOTMlIwNT2Zg"
      }
    },
    {
      "cell_type": "code",
      "source": [
        "# 기존 cust_id index 원위치\n",
        "rfm_temp = rfm_df.reset_index()"
      ],
      "metadata": {
        "id": "kS_dSIVLXlx4"
      },
      "execution_count": 65,
      "outputs": []
    },
    {
      "cell_type": "code",
      "source": [
        "# Rrecency 그룹을 기준\n",
        "rfm_r = rfm_temp.groupby('r_quartile').agg({'cust_id': lambda customer: len(customer),\n",
        "                                            'monetary': lambda price: price.sum()}).sort_index(ascending=False)\n",
        "\n",
        "# 구성비(고객수/총 고객수) 계산\n",
        "rfm_r['구성비'] = rfm_r['cust_id'] / rfm_r['cust_id'].sum()\n",
        "\n",
        "# 매출 구성비(매출액/총 매출액) 계산\n",
        "rfm_r['매출 구성비'] = rfm_r['monetary'] / rfm_r['monetary'].sum()\n",
        "\n",
        "# 매출 기여도(매출 구성비 / 구성비) 계산\n",
        "rfm_r['매출 기여도'] = rfm_r['매출 구성비'] / rfm_r['구성비']\n",
        "\n",
        "rfm_r"
      ],
      "metadata": {
        "colab": {
          "base_uri": "https://localhost:8080/",
          "height": 238
        },
        "id": "dMA6GlnjO-X-",
        "outputId": "0b562cd2-3066-488f-bee1-fb91967e2cfe"
      },
      "execution_count": 66,
      "outputs": [
        {
          "output_type": "execute_result",
          "data": {
            "text/plain": [
              "            cust_id     monetary       구성비    매출 구성비    매출 기여도\n",
              "r_quartile                                                    \n",
              "1               731  4039777.235  0.195979  0.252283  1.287300\n",
              "2               756  3679769.340  0.202681  0.229801  1.133806\n",
              "3               749  3245758.490  0.200804  0.202697  1.009426\n",
              "4               740  2702719.500  0.198391  0.168784  0.850764\n",
              "5               754  2344836.520  0.202145  0.146435  0.724404"
            ],
            "text/html": [
              "\n",
              "  <div id=\"df-d9d6b884-e932-4168-b733-b0df2a81aca0\">\n",
              "    <div class=\"colab-df-container\">\n",
              "      <div>\n",
              "<style scoped>\n",
              "    .dataframe tbody tr th:only-of-type {\n",
              "        vertical-align: middle;\n",
              "    }\n",
              "\n",
              "    .dataframe tbody tr th {\n",
              "        vertical-align: top;\n",
              "    }\n",
              "\n",
              "    .dataframe thead th {\n",
              "        text-align: right;\n",
              "    }\n",
              "</style>\n",
              "<table border=\"1\" class=\"dataframe\">\n",
              "  <thead>\n",
              "    <tr style=\"text-align: right;\">\n",
              "      <th></th>\n",
              "      <th>cust_id</th>\n",
              "      <th>monetary</th>\n",
              "      <th>구성비</th>\n",
              "      <th>매출 구성비</th>\n",
              "      <th>매출 기여도</th>\n",
              "    </tr>\n",
              "    <tr>\n",
              "      <th>r_quartile</th>\n",
              "      <th></th>\n",
              "      <th></th>\n",
              "      <th></th>\n",
              "      <th></th>\n",
              "      <th></th>\n",
              "    </tr>\n",
              "  </thead>\n",
              "  <tbody>\n",
              "    <tr>\n",
              "      <th>1</th>\n",
              "      <td>731</td>\n",
              "      <td>4039777.235</td>\n",
              "      <td>0.195979</td>\n",
              "      <td>0.252283</td>\n",
              "      <td>1.287300</td>\n",
              "    </tr>\n",
              "    <tr>\n",
              "      <th>2</th>\n",
              "      <td>756</td>\n",
              "      <td>3679769.340</td>\n",
              "      <td>0.202681</td>\n",
              "      <td>0.229801</td>\n",
              "      <td>1.133806</td>\n",
              "    </tr>\n",
              "    <tr>\n",
              "      <th>3</th>\n",
              "      <td>749</td>\n",
              "      <td>3245758.490</td>\n",
              "      <td>0.200804</td>\n",
              "      <td>0.202697</td>\n",
              "      <td>1.009426</td>\n",
              "    </tr>\n",
              "    <tr>\n",
              "      <th>4</th>\n",
              "      <td>740</td>\n",
              "      <td>2702719.500</td>\n",
              "      <td>0.198391</td>\n",
              "      <td>0.168784</td>\n",
              "      <td>0.850764</td>\n",
              "    </tr>\n",
              "    <tr>\n",
              "      <th>5</th>\n",
              "      <td>754</td>\n",
              "      <td>2344836.520</td>\n",
              "      <td>0.202145</td>\n",
              "      <td>0.146435</td>\n",
              "      <td>0.724404</td>\n",
              "    </tr>\n",
              "  </tbody>\n",
              "</table>\n",
              "</div>\n",
              "      <button class=\"colab-df-convert\" onclick=\"convertToInteractive('df-d9d6b884-e932-4168-b733-b0df2a81aca0')\"\n",
              "              title=\"Convert this dataframe to an interactive table.\"\n",
              "              style=\"display:none;\">\n",
              "        \n",
              "  <svg xmlns=\"http://www.w3.org/2000/svg\" height=\"24px\"viewBox=\"0 0 24 24\"\n",
              "       width=\"24px\">\n",
              "    <path d=\"M0 0h24v24H0V0z\" fill=\"none\"/>\n",
              "    <path d=\"M18.56 5.44l.94 2.06.94-2.06 2.06-.94-2.06-.94-.94-2.06-.94 2.06-2.06.94zm-11 1L8.5 8.5l.94-2.06 2.06-.94-2.06-.94L8.5 2.5l-.94 2.06-2.06.94zm10 10l.94 2.06.94-2.06 2.06-.94-2.06-.94-.94-2.06-.94 2.06-2.06.94z\"/><path d=\"M17.41 7.96l-1.37-1.37c-.4-.4-.92-.59-1.43-.59-.52 0-1.04.2-1.43.59L10.3 9.45l-7.72 7.72c-.78.78-.78 2.05 0 2.83L4 21.41c.39.39.9.59 1.41.59.51 0 1.02-.2 1.41-.59l7.78-7.78 2.81-2.81c.8-.78.8-2.07 0-2.86zM5.41 20L4 18.59l7.72-7.72 1.47 1.35L5.41 20z\"/>\n",
              "  </svg>\n",
              "      </button>\n",
              "      \n",
              "  <style>\n",
              "    .colab-df-container {\n",
              "      display:flex;\n",
              "      flex-wrap:wrap;\n",
              "      gap: 12px;\n",
              "    }\n",
              "\n",
              "    .colab-df-convert {\n",
              "      background-color: #E8F0FE;\n",
              "      border: none;\n",
              "      border-radius: 50%;\n",
              "      cursor: pointer;\n",
              "      display: none;\n",
              "      fill: #1967D2;\n",
              "      height: 32px;\n",
              "      padding: 0 0 0 0;\n",
              "      width: 32px;\n",
              "    }\n",
              "\n",
              "    .colab-df-convert:hover {\n",
              "      background-color: #E2EBFA;\n",
              "      box-shadow: 0px 1px 2px rgba(60, 64, 67, 0.3), 0px 1px 3px 1px rgba(60, 64, 67, 0.15);\n",
              "      fill: #174EA6;\n",
              "    }\n",
              "\n",
              "    [theme=dark] .colab-df-convert {\n",
              "      background-color: #3B4455;\n",
              "      fill: #D2E3FC;\n",
              "    }\n",
              "\n",
              "    [theme=dark] .colab-df-convert:hover {\n",
              "      background-color: #434B5C;\n",
              "      box-shadow: 0px 1px 3px 1px rgba(0, 0, 0, 0.15);\n",
              "      filter: drop-shadow(0px 1px 2px rgba(0, 0, 0, 0.3));\n",
              "      fill: #FFFFFF;\n",
              "    }\n",
              "  </style>\n",
              "\n",
              "      <script>\n",
              "        const buttonEl =\n",
              "          document.querySelector('#df-d9d6b884-e932-4168-b733-b0df2a81aca0 button.colab-df-convert');\n",
              "        buttonEl.style.display =\n",
              "          google.colab.kernel.accessAllowed ? 'block' : 'none';\n",
              "\n",
              "        async function convertToInteractive(key) {\n",
              "          const element = document.querySelector('#df-d9d6b884-e932-4168-b733-b0df2a81aca0');\n",
              "          const dataTable =\n",
              "            await google.colab.kernel.invokeFunction('convertToInteractive',\n",
              "                                                     [key], {});\n",
              "          if (!dataTable) return;\n",
              "\n",
              "          const docLinkHtml = 'Like what you see? Visit the ' +\n",
              "            '<a target=\"_blank\" href=https://colab.research.google.com/notebooks/data_table.ipynb>data table notebook</a>'\n",
              "            + ' to learn more about interactive tables.';\n",
              "          element.innerHTML = '';\n",
              "          dataTable['output_type'] = 'display_data';\n",
              "          await google.colab.output.renderOutput(dataTable, element);\n",
              "          const docLink = document.createElement('div');\n",
              "          docLink.innerHTML = docLinkHtml;\n",
              "          element.appendChild(docLink);\n",
              "        }\n",
              "      </script>\n",
              "    </div>\n",
              "  </div>\n",
              "  "
            ]
          },
          "metadata": {},
          "execution_count": 66
        }
      ]
    },
    {
      "cell_type": "code",
      "source": [
        "# frequency 그룹을 기준\n",
        "rfm_f = rfm_temp.groupby('f_quartile').agg({'cust_id': lambda customer: len(customer),\n",
        "                                            'monetary': lambda price: price.sum()}).sort_index(ascending=True)\n",
        "\n",
        "# 구성비(고객수/총 고객수) 계산\n",
        "rfm_f['구성비'] = rfm_f['cust_id'] / rfm_f['cust_id'].sum()\n",
        "\n",
        "# 매출 구성비(매출액/총 매출액) 계산\n",
        "rfm_f['매출 구성비'] = rfm_f['monetary'] / rfm_f['monetary'].sum()\n",
        "\n",
        "# 매출 기여도(매출 구성비 / 구성비) 계산\n",
        "rfm_f['매출 기여도'] = rfm_f['매출 구성비'] / rfm_f['구성비']\n",
        "\n",
        "rfm_f"
      ],
      "metadata": {
        "colab": {
          "base_uri": "https://localhost:8080/",
          "height": 238
        },
        "id": "UDoyIyreYDza",
        "outputId": "6e6d4025-f6f3-4742-e203-fd2be911c1cf"
      },
      "execution_count": 67,
      "outputs": [
        {
          "output_type": "execute_result",
          "data": {
            "text/plain": [
              "            cust_id     monetary       구성비    매출 구성비    매출 기여도\n",
              "f_quartile                                                    \n",
              "1                25   343464.940  0.006702  0.021449  3.200238\n",
              "2               124  1282182.330  0.033244  0.080072  2.408618\n",
              "3               415  3345954.365  0.111260  0.208954  1.878070\n",
              "4              1102  5687931.145  0.295442  0.355210  1.202299\n",
              "5              2064  5353328.305  0.553351  0.334314  0.604163"
            ],
            "text/html": [
              "\n",
              "  <div id=\"df-ed7980f9-4d30-49a5-b941-c61d7f1d9387\">\n",
              "    <div class=\"colab-df-container\">\n",
              "      <div>\n",
              "<style scoped>\n",
              "    .dataframe tbody tr th:only-of-type {\n",
              "        vertical-align: middle;\n",
              "    }\n",
              "\n",
              "    .dataframe tbody tr th {\n",
              "        vertical-align: top;\n",
              "    }\n",
              "\n",
              "    .dataframe thead th {\n",
              "        text-align: right;\n",
              "    }\n",
              "</style>\n",
              "<table border=\"1\" class=\"dataframe\">\n",
              "  <thead>\n",
              "    <tr style=\"text-align: right;\">\n",
              "      <th></th>\n",
              "      <th>cust_id</th>\n",
              "      <th>monetary</th>\n",
              "      <th>구성비</th>\n",
              "      <th>매출 구성비</th>\n",
              "      <th>매출 기여도</th>\n",
              "    </tr>\n",
              "    <tr>\n",
              "      <th>f_quartile</th>\n",
              "      <th></th>\n",
              "      <th></th>\n",
              "      <th></th>\n",
              "      <th></th>\n",
              "      <th></th>\n",
              "    </tr>\n",
              "  </thead>\n",
              "  <tbody>\n",
              "    <tr>\n",
              "      <th>1</th>\n",
              "      <td>25</td>\n",
              "      <td>343464.940</td>\n",
              "      <td>0.006702</td>\n",
              "      <td>0.021449</td>\n",
              "      <td>3.200238</td>\n",
              "    </tr>\n",
              "    <tr>\n",
              "      <th>2</th>\n",
              "      <td>124</td>\n",
              "      <td>1282182.330</td>\n",
              "      <td>0.033244</td>\n",
              "      <td>0.080072</td>\n",
              "      <td>2.408618</td>\n",
              "    </tr>\n",
              "    <tr>\n",
              "      <th>3</th>\n",
              "      <td>415</td>\n",
              "      <td>3345954.365</td>\n",
              "      <td>0.111260</td>\n",
              "      <td>0.208954</td>\n",
              "      <td>1.878070</td>\n",
              "    </tr>\n",
              "    <tr>\n",
              "      <th>4</th>\n",
              "      <td>1102</td>\n",
              "      <td>5687931.145</td>\n",
              "      <td>0.295442</td>\n",
              "      <td>0.355210</td>\n",
              "      <td>1.202299</td>\n",
              "    </tr>\n",
              "    <tr>\n",
              "      <th>5</th>\n",
              "      <td>2064</td>\n",
              "      <td>5353328.305</td>\n",
              "      <td>0.553351</td>\n",
              "      <td>0.334314</td>\n",
              "      <td>0.604163</td>\n",
              "    </tr>\n",
              "  </tbody>\n",
              "</table>\n",
              "</div>\n",
              "      <button class=\"colab-df-convert\" onclick=\"convertToInteractive('df-ed7980f9-4d30-49a5-b941-c61d7f1d9387')\"\n",
              "              title=\"Convert this dataframe to an interactive table.\"\n",
              "              style=\"display:none;\">\n",
              "        \n",
              "  <svg xmlns=\"http://www.w3.org/2000/svg\" height=\"24px\"viewBox=\"0 0 24 24\"\n",
              "       width=\"24px\">\n",
              "    <path d=\"M0 0h24v24H0V0z\" fill=\"none\"/>\n",
              "    <path d=\"M18.56 5.44l.94 2.06.94-2.06 2.06-.94-2.06-.94-.94-2.06-.94 2.06-2.06.94zm-11 1L8.5 8.5l.94-2.06 2.06-.94-2.06-.94L8.5 2.5l-.94 2.06-2.06.94zm10 10l.94 2.06.94-2.06 2.06-.94-2.06-.94-.94-2.06-.94 2.06-2.06.94z\"/><path d=\"M17.41 7.96l-1.37-1.37c-.4-.4-.92-.59-1.43-.59-.52 0-1.04.2-1.43.59L10.3 9.45l-7.72 7.72c-.78.78-.78 2.05 0 2.83L4 21.41c.39.39.9.59 1.41.59.51 0 1.02-.2 1.41-.59l7.78-7.78 2.81-2.81c.8-.78.8-2.07 0-2.86zM5.41 20L4 18.59l7.72-7.72 1.47 1.35L5.41 20z\"/>\n",
              "  </svg>\n",
              "      </button>\n",
              "      \n",
              "  <style>\n",
              "    .colab-df-container {\n",
              "      display:flex;\n",
              "      flex-wrap:wrap;\n",
              "      gap: 12px;\n",
              "    }\n",
              "\n",
              "    .colab-df-convert {\n",
              "      background-color: #E8F0FE;\n",
              "      border: none;\n",
              "      border-radius: 50%;\n",
              "      cursor: pointer;\n",
              "      display: none;\n",
              "      fill: #1967D2;\n",
              "      height: 32px;\n",
              "      padding: 0 0 0 0;\n",
              "      width: 32px;\n",
              "    }\n",
              "\n",
              "    .colab-df-convert:hover {\n",
              "      background-color: #E2EBFA;\n",
              "      box-shadow: 0px 1px 2px rgba(60, 64, 67, 0.3), 0px 1px 3px 1px rgba(60, 64, 67, 0.15);\n",
              "      fill: #174EA6;\n",
              "    }\n",
              "\n",
              "    [theme=dark] .colab-df-convert {\n",
              "      background-color: #3B4455;\n",
              "      fill: #D2E3FC;\n",
              "    }\n",
              "\n",
              "    [theme=dark] .colab-df-convert:hover {\n",
              "      background-color: #434B5C;\n",
              "      box-shadow: 0px 1px 3px 1px rgba(0, 0, 0, 0.15);\n",
              "      filter: drop-shadow(0px 1px 2px rgba(0, 0, 0, 0.3));\n",
              "      fill: #FFFFFF;\n",
              "    }\n",
              "  </style>\n",
              "\n",
              "      <script>\n",
              "        const buttonEl =\n",
              "          document.querySelector('#df-ed7980f9-4d30-49a5-b941-c61d7f1d9387 button.colab-df-convert');\n",
              "        buttonEl.style.display =\n",
              "          google.colab.kernel.accessAllowed ? 'block' : 'none';\n",
              "\n",
              "        async function convertToInteractive(key) {\n",
              "          const element = document.querySelector('#df-ed7980f9-4d30-49a5-b941-c61d7f1d9387');\n",
              "          const dataTable =\n",
              "            await google.colab.kernel.invokeFunction('convertToInteractive',\n",
              "                                                     [key], {});\n",
              "          if (!dataTable) return;\n",
              "\n",
              "          const docLinkHtml = 'Like what you see? Visit the ' +\n",
              "            '<a target=\"_blank\" href=https://colab.research.google.com/notebooks/data_table.ipynb>data table notebook</a>'\n",
              "            + ' to learn more about interactive tables.';\n",
              "          element.innerHTML = '';\n",
              "          dataTable['output_type'] = 'display_data';\n",
              "          await google.colab.output.renderOutput(dataTable, element);\n",
              "          const docLink = document.createElement('div');\n",
              "          docLink.innerHTML = docLinkHtml;\n",
              "          element.appendChild(docLink);\n",
              "        }\n",
              "      </script>\n",
              "    </div>\n",
              "  </div>\n",
              "  "
            ]
          },
          "metadata": {},
          "execution_count": 67
        }
      ]
    },
    {
      "cell_type": "code",
      "source": [
        "# monetary 그룹을 기준\n",
        "rfm_m = rfm_temp.groupby('m_quartile').agg({'cust_id': lambda customer: len(customer),\n",
        "                                            'monetary': lambda price: price.sum()}).sort_index(ascending=False)\n",
        "\n",
        "# 구성비(고객수/총 고객수) 계산\n",
        "rfm_m['구성비'] = rfm_m['cust_id'] / rfm_m['cust_id'].sum()\n",
        "\n",
        "# 매출 구성비(매출액/총 매출액) 계산\n",
        "rfm_m['매출 구성비'] = rfm_m['monetary'] / rfm_m['monetary'].sum()\n",
        "\n",
        "# 매출 기여도(매출 구성비 / 구성비) 계산\n",
        "rfm_m['매출 기여도'] = rfm_m['매출 구성비'] / rfm_m['구성비']\n",
        "\n",
        "rfm_m"
      ],
      "metadata": {
        "colab": {
          "base_uri": "https://localhost:8080/",
          "height": 238
        },
        "id": "5PJv1HSTYXGd",
        "outputId": "de06de2a-8923-4abd-8274-ebb2738ed1f9"
      },
      "execution_count": 68,
      "outputs": [
        {
          "output_type": "execute_result",
          "data": {
            "text/plain": [
              "            cust_id     monetary       구성비    매출 구성비    매출 기여도\n",
              "m_quartile                                                    \n",
              "1               746  7331856.220  0.200000  0.457873  2.289365\n",
              "2               746  4096136.655  0.200000  0.255803  1.279015\n",
              "3               745  2562725.945  0.199732  0.160042  0.801283\n",
              "4               746  1460526.015  0.200000  0.091210  0.456048\n",
              "5               747   561616.250  0.200268  0.035073  0.175129"
            ],
            "text/html": [
              "\n",
              "  <div id=\"df-189badff-2304-49c0-8a37-635898fd1b56\">\n",
              "    <div class=\"colab-df-container\">\n",
              "      <div>\n",
              "<style scoped>\n",
              "    .dataframe tbody tr th:only-of-type {\n",
              "        vertical-align: middle;\n",
              "    }\n",
              "\n",
              "    .dataframe tbody tr th {\n",
              "        vertical-align: top;\n",
              "    }\n",
              "\n",
              "    .dataframe thead th {\n",
              "        text-align: right;\n",
              "    }\n",
              "</style>\n",
              "<table border=\"1\" class=\"dataframe\">\n",
              "  <thead>\n",
              "    <tr style=\"text-align: right;\">\n",
              "      <th></th>\n",
              "      <th>cust_id</th>\n",
              "      <th>monetary</th>\n",
              "      <th>구성비</th>\n",
              "      <th>매출 구성비</th>\n",
              "      <th>매출 기여도</th>\n",
              "    </tr>\n",
              "    <tr>\n",
              "      <th>m_quartile</th>\n",
              "      <th></th>\n",
              "      <th></th>\n",
              "      <th></th>\n",
              "      <th></th>\n",
              "      <th></th>\n",
              "    </tr>\n",
              "  </thead>\n",
              "  <tbody>\n",
              "    <tr>\n",
              "      <th>1</th>\n",
              "      <td>746</td>\n",
              "      <td>7331856.220</td>\n",
              "      <td>0.200000</td>\n",
              "      <td>0.457873</td>\n",
              "      <td>2.289365</td>\n",
              "    </tr>\n",
              "    <tr>\n",
              "      <th>2</th>\n",
              "      <td>746</td>\n",
              "      <td>4096136.655</td>\n",
              "      <td>0.200000</td>\n",
              "      <td>0.255803</td>\n",
              "      <td>1.279015</td>\n",
              "    </tr>\n",
              "    <tr>\n",
              "      <th>3</th>\n",
              "      <td>745</td>\n",
              "      <td>2562725.945</td>\n",
              "      <td>0.199732</td>\n",
              "      <td>0.160042</td>\n",
              "      <td>0.801283</td>\n",
              "    </tr>\n",
              "    <tr>\n",
              "      <th>4</th>\n",
              "      <td>746</td>\n",
              "      <td>1460526.015</td>\n",
              "      <td>0.200000</td>\n",
              "      <td>0.091210</td>\n",
              "      <td>0.456048</td>\n",
              "    </tr>\n",
              "    <tr>\n",
              "      <th>5</th>\n",
              "      <td>747</td>\n",
              "      <td>561616.250</td>\n",
              "      <td>0.200268</td>\n",
              "      <td>0.035073</td>\n",
              "      <td>0.175129</td>\n",
              "    </tr>\n",
              "  </tbody>\n",
              "</table>\n",
              "</div>\n",
              "      <button class=\"colab-df-convert\" onclick=\"convertToInteractive('df-189badff-2304-49c0-8a37-635898fd1b56')\"\n",
              "              title=\"Convert this dataframe to an interactive table.\"\n",
              "              style=\"display:none;\">\n",
              "        \n",
              "  <svg xmlns=\"http://www.w3.org/2000/svg\" height=\"24px\"viewBox=\"0 0 24 24\"\n",
              "       width=\"24px\">\n",
              "    <path d=\"M0 0h24v24H0V0z\" fill=\"none\"/>\n",
              "    <path d=\"M18.56 5.44l.94 2.06.94-2.06 2.06-.94-2.06-.94-.94-2.06-.94 2.06-2.06.94zm-11 1L8.5 8.5l.94-2.06 2.06-.94-2.06-.94L8.5 2.5l-.94 2.06-2.06.94zm10 10l.94 2.06.94-2.06 2.06-.94-2.06-.94-.94-2.06-.94 2.06-2.06.94z\"/><path d=\"M17.41 7.96l-1.37-1.37c-.4-.4-.92-.59-1.43-.59-.52 0-1.04.2-1.43.59L10.3 9.45l-7.72 7.72c-.78.78-.78 2.05 0 2.83L4 21.41c.39.39.9.59 1.41.59.51 0 1.02-.2 1.41-.59l7.78-7.78 2.81-2.81c.8-.78.8-2.07 0-2.86zM5.41 20L4 18.59l7.72-7.72 1.47 1.35L5.41 20z\"/>\n",
              "  </svg>\n",
              "      </button>\n",
              "      \n",
              "  <style>\n",
              "    .colab-df-container {\n",
              "      display:flex;\n",
              "      flex-wrap:wrap;\n",
              "      gap: 12px;\n",
              "    }\n",
              "\n",
              "    .colab-df-convert {\n",
              "      background-color: #E8F0FE;\n",
              "      border: none;\n",
              "      border-radius: 50%;\n",
              "      cursor: pointer;\n",
              "      display: none;\n",
              "      fill: #1967D2;\n",
              "      height: 32px;\n",
              "      padding: 0 0 0 0;\n",
              "      width: 32px;\n",
              "    }\n",
              "\n",
              "    .colab-df-convert:hover {\n",
              "      background-color: #E2EBFA;\n",
              "      box-shadow: 0px 1px 2px rgba(60, 64, 67, 0.3), 0px 1px 3px 1px rgba(60, 64, 67, 0.15);\n",
              "      fill: #174EA6;\n",
              "    }\n",
              "\n",
              "    [theme=dark] .colab-df-convert {\n",
              "      background-color: #3B4455;\n",
              "      fill: #D2E3FC;\n",
              "    }\n",
              "\n",
              "    [theme=dark] .colab-df-convert:hover {\n",
              "      background-color: #434B5C;\n",
              "      box-shadow: 0px 1px 3px 1px rgba(0, 0, 0, 0.15);\n",
              "      filter: drop-shadow(0px 1px 2px rgba(0, 0, 0, 0.3));\n",
              "      fill: #FFFFFF;\n",
              "    }\n",
              "  </style>\n",
              "\n",
              "      <script>\n",
              "        const buttonEl =\n",
              "          document.querySelector('#df-189badff-2304-49c0-8a37-635898fd1b56 button.colab-df-convert');\n",
              "        buttonEl.style.display =\n",
              "          google.colab.kernel.accessAllowed ? 'block' : 'none';\n",
              "\n",
              "        async function convertToInteractive(key) {\n",
              "          const element = document.querySelector('#df-189badff-2304-49c0-8a37-635898fd1b56');\n",
              "          const dataTable =\n",
              "            await google.colab.kernel.invokeFunction('convertToInteractive',\n",
              "                                                     [key], {});\n",
              "          if (!dataTable) return;\n",
              "\n",
              "          const docLinkHtml = 'Like what you see? Visit the ' +\n",
              "            '<a target=\"_blank\" href=https://colab.research.google.com/notebooks/data_table.ipynb>data table notebook</a>'\n",
              "            + ' to learn more about interactive tables.';\n",
              "          element.innerHTML = '';\n",
              "          dataTable['output_type'] = 'display_data';\n",
              "          await google.colab.output.renderOutput(dataTable, element);\n",
              "          const docLink = document.createElement('div');\n",
              "          docLink.innerHTML = docLinkHtml;\n",
              "          element.appendChild(docLink);\n",
              "        }\n",
              "      </script>\n",
              "    </div>\n",
              "  </div>\n",
              "  "
            ]
          },
          "metadata": {},
          "execution_count": 68
        }
      ]
    },
    {
      "cell_type": "code",
      "source": [
        "# R 총 매출 기여도\n",
        "sum_r = rfm_r['매출 기여도'].sum()\n",
        "\n",
        "# F 총 매출 기여도\n",
        "sum_f = rfm_f['매출 기여도'].sum()\n",
        "\n",
        "# M 총 매출 기여도\n",
        "sum_m = rfm_m['매출 기여도'].sum()\n",
        "\n",
        "# RFM 매출 기여도 합\n",
        "sum_total = sum_r + sum_f + sum_m\n",
        "\n",
        "# R 가중치\n",
        "weight_r_2012 = sum_r / sum_total\n",
        "\n",
        "# F 가중치\n",
        "weight_f_2012 = sum_f / sum_total\n",
        "\n",
        "# M 가중치\n",
        "weight_m_2012 = sum_m / sum_total\n",
        "\n",
        "print('R 가중치: ', weight_r_2012)\n",
        "print('F 가중치: ', weight_f_2012)\n",
        "print('M 가중치: ', weight_m_2012)"
      ],
      "metadata": {
        "colab": {
          "base_uri": "https://localhost:8080/"
        },
        "id": "VrQOxkQ4Yh8N",
        "outputId": "bf787f91-e2dd-418e-db7e-0ac75ec8ac69"
      },
      "execution_count": 69,
      "outputs": [
        {
          "output_type": "stream",
          "name": "stdout",
          "text": [
            "R 가중치:  0.2593636730371362\n",
            "F 가중치:  0.48152452442615395\n",
            "M 가중치:  0.25911180253670985\n"
          ]
        }
      ]
    },
    {
      "cell_type": "code",
      "source": [
        "# 각 RFM quartile에 가중치를 곱한 후 합을 구해 RFM SCORE 계산\n",
        "rfm_df['RFM SCORE'] = round((weight_r_2012 * rfm_df['r_quartile'].astype(int)) + (weight_f_2012 * rfm_df['f_quartile'].astype(int)) + (weight_m_2012 * rfm_df['m_quartile'].astype(int)),2)\n",
        "rfm_df.sort_values('RFM SCORE', ascending=True)"
      ],
      "metadata": {
        "id": "6QLhEYuDb2ac"
      },
      "execution_count": null,
      "outputs": []
    },
    {
      "cell_type": "markdown",
      "source": [
        "## 5.c 2012년 vs 2013년 RFM SCORE 비교"
      ],
      "metadata": {
        "id": "3geyoW-Ehftl"
      }
    },
    {
      "cell_type": "code",
      "source": [
        "# 2012년 RFM 데이터 가져오기\n",
        "rfm_2012 = rfm_df.copy()"
      ],
      "metadata": {
        "id": "85ejUjonhwMi"
      },
      "execution_count": 71,
      "outputs": []
    },
    {
      "cell_type": "code",
      "source": [
        "# 2013년 RFM 데이터 가져오기 (방법은 전 섹션에서 구한 방법과 동일)\n",
        "\n",
        "# 2013년 고객 구매 데이터 & 구매확정 데이터\n",
        "rfm_2013 = new_data[(new_data['tran_date'] >= '2013-01-01') & (new_data['tran_date'] < '2014-01-01') & (new_data['confirmed'] == 'confirm')].sort_values(['cust_id', 'tran_date'])\n",
        "\n",
        "# 각 고객의 최신 거래 내역만 추출\n",
        "# 각 고객의 2013년도 누적 구매건수\n",
        "# 각 고객의 2013년도 누적 매출액\n",
        "rfm_2013 = rfm_2013.groupby('cust_id').agg({'tran_date': lambda date: date.max(),\n",
        "                                    'transaction_id': lambda num: len(num),\n",
        "                                    'total_amt': lambda price: price.sum()})\n",
        "\n",
        "# rfm_2013 컬럼명을 recency, frequency, monetary로 변경\n",
        "rfm_2013.columns=['recency', 'frequency', 'monetary'] \n",
        "\n",
        "# 5개의 그룹으로 R, F, M class를 나누어준다\n",
        "rfm_2013['r_quartile'] = pd.qcut(rfm_2013['recency'], 5, ['5','4','3','2','1'])\n",
        "rfm_2013['m_quartile'] = pd.qcut(rfm_2013['monetary'], 5, ['5','4','3','2','1'])\n",
        "\n",
        "# 현 데이터의 frequency의 범위는 1~6로 그 범위가 너무 작기때문에 pd.cut() function을 쓰면 에러가 걸린다\n",
        "# 그래서 frequency는 임의로 1->5, 2->4, 3->3, 4->2, [5,6]->1으로 구분해준다\n",
        "rfm_2013['f_quartile'] = rfm_2013['frequency'].apply(lambda x: 5 if x == 1 else (4 if x == 2 else (3 if x == 3 else (2 if x == 4 else 1))))\n",
        "\n",
        "# 기존 cust_id index 원위치\n",
        "rfm_temp = rfm_2013.reset_index()\n",
        "\n",
        "# Rrecency 그룹을 기준\n",
        "rfm_r = rfm_temp.groupby('r_quartile').agg({'cust_id': lambda customer: len(customer),\n",
        "                                            'monetary': lambda price: price.sum()}).sort_index(ascending=False)\n",
        "\n",
        "# 구성비(고객수/총 고객수) 계산\n",
        "rfm_r['구성비'] = rfm_r['cust_id'] / rfm_r['cust_id'].sum()\n",
        "\n",
        "# 매출 구성비(매출액/총 매출액) 계산\n",
        "rfm_r['매출 구성비'] = rfm_r['monetary'] / rfm_r['monetary'].sum()\n",
        "\n",
        "# 매출 기여도(매출 구성비 / 구성비) 계산\n",
        "rfm_r['매출 기여도'] = rfm_r['매출 구성비'] / rfm_r['구성비']\n",
        "\n",
        "# frequency 그룹을 기준\n",
        "rfm_f = rfm_temp.groupby('f_quartile').agg({'cust_id': lambda customer: len(customer),\n",
        "                                            'monetary': lambda price: price.sum()}).sort_index(ascending=True)\n",
        "\n",
        "# 구성비(고객수/총 고객수) 계산\n",
        "rfm_f['구성비'] = rfm_f['cust_id'] / rfm_f['cust_id'].sum()\n",
        "\n",
        "# 매출 구성비(매출액/총 매출액) 계산\n",
        "rfm_f['매출 구성비'] = rfm_f['monetary'] / rfm_f['monetary'].sum()\n",
        "\n",
        "# 매출 기여도(매출 구성비 / 구성비) 계산\n",
        "rfm_f['매출 기여도'] = rfm_f['매출 구성비'] / rfm_f['구성비']\n",
        "\n",
        "# monetary 그룹을 기준\n",
        "rfm_m = rfm_temp.groupby('m_quartile').agg({'cust_id': lambda customer: len(customer),\n",
        "                                            'monetary': lambda price: price.sum()}).sort_index(ascending=False)\n",
        "\n",
        "# 구성비(고객수/총 고객수) 계산\n",
        "rfm_m['구성비'] = rfm_m['cust_id'] / rfm_m['cust_id'].sum()\n",
        "\n",
        "# 매출 구성비(매출액/총 매출액) 계산\n",
        "rfm_m['매출 구성비'] = rfm_m['monetary'] / rfm_m['monetary'].sum()\n",
        "\n",
        "# 매출 기여도(매출 구성비 / 구성비) 계산\n",
        "rfm_m['매출 기여도'] = rfm_m['매출 구성비'] / rfm_m['구성비']\n",
        "\n",
        "# R 총 매출 기여도\n",
        "sum_r = rfm_r['매출 기여도'].sum()\n",
        "\n",
        "# F 총 매출 기여도\n",
        "sum_f = rfm_f['매출 기여도'].sum()\n",
        "\n",
        "# M 총 매출 기여도\n",
        "sum_m = rfm_m['매출 기여도'].sum()\n",
        "\n",
        "# RFM 매출 기여도 합\n",
        "sum_total = sum_r + sum_f + sum_m\n",
        "\n",
        "# R 가중치\n",
        "weight_r_2013 = sum_r / sum_total\n",
        "\n",
        "# F 가중치\n",
        "weight_f_2013 = sum_f / sum_total\n",
        "\n",
        "# M 가중치\n",
        "weight_m_2013 = sum_m / sum_total\n",
        "\n",
        "# 각 RFM quartile에 가중치를 곱한 후 합을 구해 RFM SCORE 계산\n",
        "rfm_2013['RFM SCORE'] = round((weight_r_2013 * rfm_2013['r_quartile'].astype(int)) + (weight_f_2013 * rfm_2013['f_quartile'].astype(int)) + (weight_m_2013 * rfm_2013['m_quartile'].astype(int)),2)"
      ],
      "metadata": {
        "id": "sE1tLrCCiqz7"
      },
      "execution_count": 72,
      "outputs": []
    },
    {
      "cell_type": "code",
      "source": [
        "# 2012년 RFM 데이터와 2013년 RFM SCORE를 통합\n",
        "merged_rmf = pd.merge(rfm_2012, rfm_2013, on='cust_id', how='outer', suffixes=(' 2012', ' 2013'))\n",
        "\n",
        "# 2012년 RMF과 2013년 RMF의 차이 계산\n",
        "merged_rmf['changes'] = merged_rmf['RFM SCORE 2012'] - merged_rmf['RFM SCORE 2013']"
      ],
      "metadata": {
        "id": "DX6Hnf-Kkk35"
      },
      "execution_count": 73,
      "outputs": []
    },
    {
      "cell_type": "code",
      "source": [
        "merged_rmf[merged_rmf['changes'] < 0]"
      ],
      "metadata": {
        "id": "A4259ygQnH8A"
      },
      "execution_count": null,
      "outputs": []
    },
    {
      "cell_type": "code",
      "source": [],
      "metadata": {
        "id": "P-pznobnt6Kf"
      },
      "execution_count": null,
      "outputs": []
    }
  ]
}